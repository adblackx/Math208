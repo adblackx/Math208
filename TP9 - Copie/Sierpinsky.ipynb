{
 "cells": [
  {
   "cell_type": "markdown",
   "metadata": {
    "Collapsed": "false"
   },
   "source": [
    "# Feuille de TP7 - Triangle de Sierpinski"
   ]
  },
  {
   "cell_type": "code",
   "execution_count": 2,
   "metadata": {
    "Collapsed": "false"
   },
   "outputs": [],
   "source": [
    "import numpy as np\n",
    "import matplotlib.pyplot as plt\n",
    "%matplotlib inline\n",
    "%config InlineBackend.figure_format = 'retina'"
   ]
  },
  {
   "cell_type": "markdown",
   "metadata": {
    "Collapsed": "false"
   },
   "source": [
    "Le triangle de Sierpinski est une fractale dont des approximations arbitrairement proches peuvent être onbtenues de la manière récurrente par l'algorithme suivant :\n",
    "1. Commencer à partir d'un triangle quelconque du plan. (Le triangle canonique de Sierpinski se construit à partir d'un triangle équilatéral ayant une base parallèle à l'axe des abscisses.)\n",
    "2. Tracer les trois segments qui joignent deux à deux les milieux des côtés du triangle, ce qui délimite 4 nouveaux triangles.\n",
    "3. Recommencer à la deuxième étape avec chacun des trois petits triangles de coin obtenus.\n",
    "\n",
    "<img src=\"sierpinski.png\"/>"
   ]
  },
  {
   "cell_type": "markdown",
   "metadata": {
    "Collapsed": "false"
   },
   "source": [
    "Par la suite, nous allons construire cette fractale en partant d'un triangle équilatéral de base horizontale, comme sur l'exemple ci-dessus."
   ]
  },
  {
   "cell_type": "markdown",
   "metadata": {
    "Collapsed": "false"
   },
   "source": [
    "## Pour commencer\n",
    "\n",
    "**Question 1**\n",
    "Contruire à tableau `triangle0` de dimension 2, à 2 lignes et 3 colonnes tel que :\n",
    "$$ triangle0 = \\begin{pmatrix} A_x & B_X & C_x \\\\ A_y & B_y & C_y \\end{pmatrix}$$\n",
    "où $(A_x ; A_y)$ sont les coordonnées de $A$ et idem pour $B$ et $C$.\n",
    "<img src=\"triangle.png\"/>"
   ]
  },
  {
   "cell_type": "code",
   "execution_count": 3,
   "metadata": {},
   "outputs": [],
   "source": [
    "def rotation(d, theta=np.pi/3):\n",
    "    \n",
    "    res = np.empty(2)\n",
    "    cos = np.cos(theta)\n",
    "    sin = np.sin(theta)\n",
    "    res[0] = d[0]*cos - d[1]*sin#x\n",
    "    res[1] = d[0]*sin + d[1]*cos#y\n",
    "    \n",
    "    return res"
   ]
  },
  {
   "cell_type": "code",
   "execution_count": 40,
   "metadata": {
    "Collapsed": "false"
   },
   "outputs": [],
   "source": [
    "def triangle0():\n",
    "    tab = np.array([ [0,1,0], [0,0,0] ], dtype = float)\n",
    "    tab[0,2] = np.cos(np.pi/3)\n",
    "    tab[1,2] = np.sin(np.pi/3)\n",
    "    return tab"
   ]
  },
  {
   "cell_type": "code",
   "execution_count": 44,
   "metadata": {},
   "outputs": [
    {
     "name": "stdout",
     "output_type": "stream",
     "text": [
      "[[0.        1.        0.5      ]\n",
      " [0.        0.        0.8660254]]\n"
     ]
    },
    {
     "data": {
      "text/plain": [
       "[<matplotlib.lines.Line2D at 0x23fa3393c88>]"
      ]
     },
     "execution_count": 44,
     "metadata": {},
     "output_type": "execute_result"
    },
    {
     "data": {
      "image/png": "[encoded data removed]",
      "text/plain": [
       "<Figure size 144x144 with 1 Axes>"
      ]
     },
     "metadata": {
      "image/png": {
       "height": 139,
       "width": 151
      },
      "needs_background": "light"
     },
     "output_type": "display_data"
    }
   ],
   "source": [
    "triangle = triangle0()\n",
    "print(tab)\n",
    "fig,ax = plt.subplots(1,1, figsize = (2,2))\n",
    "ax.plot(triangle[0,:], triangle[1,:], \"o r\")"
   ]
  },
  {
   "cell_type": "markdown",
   "metadata": {
    "Collapsed": "false"
   },
   "source": [
    "**Question 2**\n",
    "+ Ecrire une fonction `dessine_triangle` qui prend en argument un axe `ax`, un tableau `triangle` de profil (2,3) et qui dessine le triangle représenté par le tableau triangle. \n",
    "+ Testez la fonction avec `triangle0`"
   ]
  },
  {
   "cell_type": "code",
   "execution_count": 57,
   "metadata": {
    "Collapsed": "false"
   },
   "outputs": [
    {
     "ename": "SyntaxError",
     "evalue": "invalid syntax (<ipython-input-57-428855d008df>, line 3)",
     "output_type": "error",
     "traceback": [
      "\u001b[1;36m  File \u001b[1;32m\"<ipython-input-57-428855d008df>\"\u001b[1;36m, line \u001b[1;32m3\u001b[0m\n\u001b[1;33m    ax.plot([triangle[1,:1], triangle[0,:], 'b')\u001b[0m\n\u001b[1;37m                                               ^\u001b[0m\n\u001b[1;31mSyntaxError\u001b[0m\u001b[1;31m:\u001b[0m invalid syntax\n"
     ]
    }
   ],
   "source": [
    "def dessine_triangle(ax, triangle):\n",
    "    ax.plot(triangle[0,:], triangle[1,:], 'b')\n",
    "    ax.plot([triangle[1,:1], triangle[0,:], 'b')"
   ]
  },
  {
   "cell_type": "code",
   "execution_count": 56,
   "metadata": {
    "Collapsed": "false"
   },
   "outputs": [
    {
     "data": {
      "image/png": "[encoded data removed]",
      "text/plain": [
       "<Figure size 144x144 with 1 Axes>"
      ]
     },
     "metadata": {
      "image/png": {
       "height": 139,
       "width": 158
      },
      "needs_background": "light"
     },
     "output_type": "display_data"
    }
   ],
   "source": [
    "fig,ax = fig,ax = plt.subplots(1,1, figsize = (2,2))\n",
    "dessine_triangle(ax, triangle)"
   ]
  },
  {
   "cell_type": "markdown",
   "metadata": {
    "Collapsed": "false"
   },
   "source": [
    "## Pour passer de l'étape 0 à l'étape 1\n",
    "\n",
    "**Question 3**\n",
    "\n",
    "Soit `triangle` un tableau représentant un triangle ABC.\n",
    "Ecrire une fonction `sous_triangle` qui :\n",
    "+ prend en argument d'entrée un tableau de taille (2,3) `triangle`,\n",
    "+ calcule les milieux $d$, $e$ et $f$ de chaque côté du triangle tels que \n",
    "    + $d$ soit le milieu de $CA$,\n",
    "    + $e$ soit le milieu de $AB$,\n",
    "    + $f$ soit le milieu de $BC$,\n",
    "+ renvoie trois tableaux `tri1`, `tri2` et `tri3` tels que (attention à l'ordre des points !) :\n",
    "    + `tri1` représente le triangle $Aed$,\n",
    "    + `tri2` représente le triangle $eBf$,\n",
    "    + `tri3` représente le triangle $dfC$,"
   ]
  },
  {
   "cell_type": "code",
   "execution_count": null,
   "metadata": {
    "Collapsed": "false"
   },
   "outputs": [],
   "source": []
  },
  {
   "cell_type": "markdown",
   "metadata": {
    "Collapsed": "false"
   },
   "source": [
    "## Construction finale\n",
    "\n",
    "**Question 4**\n",
    "\n",
    "Appelez la fonction `sous_triangle` sur `triangle0` puis sur chacun des trois triangles que la fonction va renvoyer. Tracez les triangles obtenus. Que remarquez-vous ?"
   ]
  },
  {
   "cell_type": "code",
   "execution_count": null,
   "metadata": {
    "Collapsed": "false"
   },
   "outputs": [],
   "source": []
  },
  {
   "cell_type": "markdown",
   "metadata": {
    "Collapsed": "false"
   },
   "source": [
    "**Question 5**\n",
    "\n",
    "Construire le triangle final en créant une fonction `sierpinsky` qui :\n",
    "> prend en argument un entier $n$,\n",
    "> crée uen figure et un axe,\n",
    "> dessine le triangle de Sierpinsky au bout de n itérations.\n",
    "    \n",
    "On pourra commencer par tester cette fonction pour $n$ petit ($n$=5 par exemple)."
   ]
  },
  {
   "cell_type": "code",
   "execution_count": null,
   "metadata": {
    "Collapsed": "false"
   },
   "outputs": [],
   "source": []
  },
  {
   "cell_type": "code",
   "execution_count": null,
   "metadata": {
    "Collapsed": "false"
   },
   "outputs": [],
   "source": []
  },
  {
   "cell_type": "code",
   "execution_count": null,
   "metadata": {},
   "outputs": [],
   "source": []
  }
 ],
 "metadata": {
  "kernelspec": {
   "display_name": "Python 3",
   "language": "python",
   "name": "python3"
  },
  "language_info": {
   "codemirror_mode": {
    "name": "ipython",
    "version": 3
   },
   "file_extension": ".py",
   "mimetype": "text/x-python",
   "name": "python",
   "nbconvert_exporter": "python",
   "pygments_lexer": "ipython3",
   "version": "3.7.4"
  }
 },
 "nbformat": 4,
 "nbformat_minor": 4
}
