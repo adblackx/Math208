{
 "cells": [
  {
   "cell_type": "markdown",
   "metadata": {
    "Collapsed": "false"
   },
   "source": [
    "# Feuille de TP3 - Partie A : Manipulation de fonctions\n"
   ]
  },
  {
   "cell_type": "code",
   "execution_count": 1,
   "metadata": {
    "Collapsed": "false"
   },
   "outputs": [],
   "source": [
    "# Import des modules\n",
    "import numpy as np"
   ]
  },
  {
   "cell_type": "markdown",
   "metadata": {
    "Collapsed": "false"
   },
   "source": [
    "**Attention :**\n",
    "+ On rappelle que les noms de fonctions **ne doivent pas commencer par &laquo;_&raquo; ni contenir de caractères accentués** (plus précisément, les fonctions qui commencent par &laquo;_&raquo; ne peuvent pas être importées dans un autre module).\n",
    "+ Les tableaux sont typées. Lorsque vous modifiez un élément d'une matrice, si les types sont différents, une conversion a lieu qui peut parfois engendrer des bugs... Voici un exemple pour illustrer cela."
   ]
  },
  {
   "cell_type": "code",
   "execution_count": 2,
   "metadata": {
    "Collapsed": "false"
   },
   "outputs": [
    {
     "name": "stdout",
     "output_type": "stream",
     "text": [
      "[[1 2]\n",
      " [3 4]]\n",
      "[[1 2]\n",
      " [3 4]]\n",
      "<class 'numpy.ndarray'> <class 'numpy.int64'>\n",
      "[[1. 2.]\n",
      " [3. 4.]]\n",
      "[[1.5 2. ]\n",
      " [3.  4. ]]\n",
      "<class 'numpy.ndarray'> <class 'numpy.float64'>\n",
      "[[1. 2.]\n",
      " [3. 4.]]\n",
      "[[1.5 2. ]\n",
      " [3.  4. ]]\n",
      "<class 'numpy.ndarray'> <class 'numpy.float64'>\n"
     ]
    }
   ],
   "source": [
    "A = np.array([[1,2], [3,4]])\n",
    "print(A)\n",
    "A[0,0] = 1.5 # 1.5 va être converti en entier !\n",
    "print(A)\n",
    "print(type(A), type(A[0,0]))\n",
    "A = np.array([[1.,2], [3,4]])\n",
    "\n",
    "print(A)\n",
    "A[0,0] = 1.5 # Pas de conversion\n",
    "print(A)\n",
    "print(type(A), type(A[0,0]))\n",
    "A = np.array([[1,2], [3,4]], dtype=float)\n",
    "print(A)\n",
    "A[0,0] = 1.5\n",
    "print(A)\n",
    "print(type(A), type(A[0,0]))"
   ]
  },
  {
   "cell_type": "markdown",
   "metadata": {
    "Collapsed": "false"
   },
   "source": [
    "## Exercice 1 : Cryptographie basique : code de César (ou *Caesar cypher*)\n",
    "\n",
    "Le principe de ce code est de \"décaler\" les lettres. Par exemple, si la clef choisie est 1, la lettre A sera remplacée par B, la lettre B par C, etc. Nous nous proposons ici de fabriquer une fonction de cryptage et de décryptage pour la clef 13.\n",
    "\n",
    "#### a. <font color=red>Importer</font> le module `codecs` et tester les commandes `print(codecs.encode(\"abc\", \"rot+13\"))` et `print(codecs.encode(\"abc\", \"rot-13\"))` "
   ]
  },
  {
   "cell_type": "code",
   "execution_count": 2,
   "metadata": {
    "Collapsed": "false",
    "jupyter": {
     "outputs_hidden": true
    }
   },
   "outputs": [
    {
     "name": "stdout",
     "output_type": "stream",
     "text": [
      "nop\n",
      "nop\n"
     ]
    }
   ],
   "source": [
    "# Mettre votre code ici\n",
    "import codecs\n",
    "print(codecs.encode(\"abc\", \"rot+13\"))\n",
    "print(codecs.encode(\"abc\", \"rot-13\"))"
   ]
  },
  {
   "cell_type": "markdown",
   "metadata": {
    "Collapsed": "false"
   },
   "source": [
    "Comparer avec les 14, 15 et 16<sup>ème</sup> lettres de l'alphabet. \n",
    "#### b. Proposer une fonction `crypter()` qui demande à l'utilisateur de saisir une chaîne de caractères et affiche sa version codée."
   ]
  },
  {
   "cell_type": "code",
   "execution_count": 8,
   "metadata": {
    "Collapsed": "false",
    "jupyter": {
     "outputs_hidden": true
    }
   },
   "outputs": [
    {
     "name": "stdout",
     "output_type": "stream",
     "text": [
      "Choose a wordmitroglou\n",
      "votre mot crypte est:  zvgebtybh\n"
     ]
    }
   ],
   "source": [
    "# Mettre votre fonction ici\n",
    "def crypter():\n",
    "    ''' Demande de saisir un message puis affice sa version cryptée. '''\n",
    "    mot =input('Choose a word')\n",
    "    print(\"votre mot crypte est: \", codecs.encode(mot, \"rot+13\"))\n",
    "\n",
    "crypter()"
   ]
  },
  {
   "cell_type": "markdown",
   "metadata": {
    "Collapsed": "false"
   },
   "source": [
    "#### c. Ecrire une fonction `decrypter()` qui demande à l'utilisateur de saisir une chaîne de caractères encodée et affiche sa version décodée."
   ]
  },
  {
   "cell_type": "code",
   "execution_count": 7,
   "metadata": {
    "Collapsed": "false",
    "jupyter": {
     "outputs_hidden": true
    }
   },
   "outputs": [
    {
     "name": "stdout",
     "output_type": "stream",
     "text": [
      "Choose a word nop\n",
      "votre mot decrypte est:  abc\n"
     ]
    }
   ],
   "source": [
    "def decrypter():\n",
    "    ''' Demande de saisir un message puis affice sa version cryptée. '''\n",
    "    mot =input('Choose a word ')\n",
    "    print(\"votre mot decrypte est: \", codecs.encode(mot, \"rot+13\"))\n",
    "decrypter()"
   ]
  },
  {
   "cell_type": "markdown",
   "metadata": {
    "Collapsed": "false"
   },
   "source": [
    "#### d.Tester la fonction `crypter()` avec un message déjà crypté. Expliquer le résultat (indice : il y a 26 lettres dans l'alphabet).\n"
   ]
  },
  {
   "cell_type": "code",
   "execution_count": 10,
   "metadata": {
    "Collapsed": "false",
    "jupyter": {
     "outputs_hidden": true
    }
   },
   "outputs": [
    {
     "name": "stdout",
     "output_type": "stream",
     "text": [
      "Choose a wordzvgebtybh\n",
      "votre mot crypte est:  mitroglou\n"
     ]
    }
   ],
   "source": [
    "crypter() #decale de 13 lettres"
   ]
  },
  {
   "cell_type": "markdown",
   "metadata": {
    "Collapsed": "false"
   },
   "source": [
    "## Exercice 2\n",
    "### Question 1\n",
    "A l'aide du module `numpy`, implémenter informatiquement la fonction $f : x \\mapsto \\sin(\\pi x)$."
   ]
  },
  {
   "cell_type": "code",
   "execution_count": 23,
   "metadata": {
    "Collapsed": "false",
    "jupyter": {
     "outputs_hidden": true
    }
   },
   "outputs": [
    {
     "data": {
      "text/plain": [
       "1.2246467991473532e-16"
      ]
     },
     "execution_count": 23,
     "metadata": {},
     "output_type": "execute_result"
    }
   ],
   "source": [
    "def sinusPI(x):\n",
    "    return np.sin(np.pi*x)\n",
    "sinusPI(1)"
   ]
  },
  {
   "cell_type": "markdown",
   "metadata": {
    "Collapsed": "false"
   },
   "source": [
    "### Question 2\n",
    "Ecrire une fonction qui convertit une vitesse depuis des $km/h$ vers des miles par heure puis des noeuds. On rappelle que 1 mile = 1609 m et 1 noeud $= 0.514 m.s^{-1}$. "
   ]
  },
  {
   "cell_type": "code",
   "execution_count": 27,
   "metadata": {
    "Collapsed": "false",
    "jupyter": {
     "outputs_hidden": true
    }
   },
   "outputs": [
    {
     "data": {
      "text/plain": [
       "2.7021184608733244"
      ]
     },
     "execution_count": 27,
     "metadata": {},
     "output_type": "execute_result"
    }
   ],
   "source": [
    "def KmtoMile(x):\n",
    "    mile = x/1.609\n",
    "    return mile\n",
    "def Kmtoneouds(x):\n",
    "    mtokm=0.514*3.6\n",
    "    return x/mtokm\n",
    "\n",
    "Kmtoneouds(5)"
   ]
  },
  {
   "cell_type": "markdown",
   "metadata": {
    "Collapsed": "false"
   },
   "source": [
    "### Question 3\n",
    "\n",
    "   1. Ecrire une fonction qui prend en argument un tableau et renvoie un tableau de même taille rempli par le nombre à virgule flottante $3.0$ .\n",
    "   2. A l'aide de la fonction numpy `isscalar` écrire une fonction qui prend un argument `x` et renvoie $3.0$ si `x` est un scalaire et un tableau de $3.0$ s'il s'agit d'un tableau."
   ]
  },
  {
   "cell_type": "code",
   "execution_count": 38,
   "metadata": {
    "Collapsed": "false",
    "jupyter": {
     "outputs_hidden": true
    }
   },
   "outputs": [
    {
     "data": {
      "text/plain": [
       "array([3., 3., 3., 3.])"
      ]
     },
     "execution_count": 38,
     "metadata": {},
     "output_type": "execute_result"
    }
   ],
   "source": [
    "def fonctionaupif(x):\n",
    "    return 3*np.ones(len(x))\n",
    "fonctionaupif([1,2,3,4])"
   ]
  },
  {
   "cell_type": "code",
   "execution_count": 42,
   "metadata": {},
   "outputs": [],
   "source": [
    "def test(x):\n",
    "    if isscalar(x):\n",
    "        return x\n",
    "    return 3*np.ones(len(x))\n",
    "    \n",
    "    "
   ]
  },
  {
   "cell_type": "markdown",
   "metadata": {
    "Collapsed": "false"
   },
   "source": [
    "### Question 4\n",
    "L'aire d'un triangle peut être calculée à partir des coordonnées de ses trois sommets par la formule :\n",
    "\\begin{equation*}\n",
    " \t\\mathcal{A} = \\frac{1}{2}\\big\\vert (x_1 - x_3)(y_2-y_1)  - (x_1-x_2)(y_3 - y_1) \\big \\vert\n",
    "\\end{equation*}\n",
    "Ecrire une fonction qui prend comme argument un tableau bi-dimensionnel dont chaque ligne est la coordonnée $(x,y)$ d'un sommet et renvoie son aire."
   ]
  },
  {
   "cell_type": "code",
   "execution_count": null,
   "metadata": {
    "Collapsed": "false",
    "collapsed": true,
    "jupyter": {
     "outputs_hidden": true
    }
   },
   "outputs": [],
   "source": [
    "def aire(tab):\n",
    "    return 1/2(absolute[0][0]) # a ecrire\n",
    "    "
   ]
  },
  {
   "cell_type": "markdown",
   "metadata": {
    "Collapsed": "false"
   },
   "source": [
    "### Question 5\n",
    "Ecrire une fonction qui prend en argument un tableau et remplace ces coefficients strictement positif par $1$ et ses coefficients strictement négatifs par $-1$."
   ]
  },
  {
   "cell_type": "code",
   "execution_count": 45,
   "metadata": {
    "Collapsed": "false",
    "jupyter": {
     "outputs_hidden": true
    }
   },
   "outputs": [
    {
     "data": {
      "text/plain": [
       "array([-1,  1,  1, -1,  1,  1])"
      ]
     },
     "execution_count": 45,
     "metadata": {},
     "output_type": "execute_result"
    }
   ],
   "source": [
    "def Changement(tab):\n",
    "    return np.where(np.array(tab)<0, -1,1)\n",
    "\n",
    "Changement([-100,10,10,-10,10,10])"
   ]
  },
  {
   "cell_type": "markdown",
   "metadata": {
    "Collapsed": "false"
   },
   "source": [
    "## Exercice : comparaison de nombre flottants\n",
    "\n",
    "Le module `scipy.linalg' contient des fonctions classiques d'algère linéaire. En particulier, il fournit les fonctions :\n",
    "   * `inv` qui prend en argument une tableau de dimension 2  correspondant à une matrice carrée et qui renvoie son inverse (s'il existe),\n",
    "   * `norm` qui prend un vecteur est renvoie sa norme 2 (par défaut) et qui fonctionne aussi pour des matrices (voir l'aide pour connaître les normes possibles),\n",
    "   * solve qui prend en argument un tableau de dimension 2 représentant une matrice $A$ et un tableau de dimension 1 représentant un vecteur $v$ et cherche à résoudre Ax=b.\n",
    "\n",
    "1. Importez le module `scipy.linalg` comme `slin`, définissez une matrice $A$ (si possible inversible) et un vecteur $u$. Calculez le déterminant de $A$, inversez la matrice, calculez $x=A^{-1}u$, puis calculez la norme de $Ax-u$. Comparer $Ax$ et $u$.\n",
    "2. Testez également la commande `allclose` pour comparer $Ax$ et $u$.\n",
    "3. Recommencez en résolvant le système linéaire par la commande `solve`."
   ]
  },
  {
   "cell_type": "code",
   "execution_count": null,
   "metadata": {
    "Collapsed": "false",
    "collapsed": true,
    "jupyter": {
     "outputs_hidden": true
    }
   },
   "outputs": [],
   "source": [
    "# Mettre ici votre code pour la question 1.\n",
    "import scipy."
   ]
  },
  {
   "cell_type": "code",
   "execution_count": null,
   "metadata": {
    "Collapsed": "false",
    "collapsed": true,
    "jupyter": {
     "outputs_hidden": true
    }
   },
   "outputs": [],
   "source": [
    "# Mettre ici votre code pour la question 2."
   ]
  },
  {
   "cell_type": "code",
   "execution_count": 1,
   "metadata": {
    "Collapsed": "false"
   },
   "outputs": [],
   "source": [
    "# Mettre ici votre code pour la question 3."
   ]
  },
  {
   "cell_type": "markdown",
   "metadata": {
    "Collapsed": "false"
   },
   "source": [
    "# Exerice : itérer une fonction\n",
    "\n",
    "1 . Ecrire une fonction `itere` :\n",
    "\n",
    "* qui prend en argument une fonction `f` (représentant une fonction mathématiques $f : x \\in \\mathbb{R} \\mapsto f(x)$, un réel $x$ et un entier $n$,\n",
    "* qui renvoie l'itérée n-ième de $f$ en x (*ie* $f^n (x) = f\\circ\\big(f^{n-1}(x)\\big) = f\\circ f \\circ f \\dots f(x)$)\n",
    "\n",
    "2. Tester la fonction itere pour $f_a x \\mapsto 0.5*(\\frac{x}{a} - x)$ et $a=11$ puis $a=3$ et différentes valeurs de $n$."
   ]
  },
  {
   "cell_type": "code",
   "execution_count": null,
   "metadata": {
    "Collapsed": "false"
   },
   "outputs": [],
   "source": []
  },
  {
   "cell_type": "markdown",
   "metadata": {
    "Collapsed": "false"
   },
   "source": [
    "3. Remarque que pour $a>0$, $f_a(x)=x$ si et seulement si $x = \\sqrt(a)$. Ecrire alors un fonction `itere_seuil` qui :\n",
    "    * qui prend en argument une fonction `f` (représentant une fonction mathématiques $f : x \\in \\mathbb{R} \\mapsto f(x)$, un seuil `epsilon` et un réel `x`,\n",
    "    * l'argument $x$ pourra être pris égal à 1 par défaut,\n",
    "    * qui renvoie l'itérée n-ième de $f$ en x (*ie* $f^n(x)$) où $n$ est le plus petit entier tel que $\\vert(f^{n+1}(x)-f^n(x)\\vert \\leqslant \\varepsilon$.\n",
    "    \n",
    "Tester pour la même fonction $f$ que précédement et $\\varepsilon = 1e-6$ et $a = 3$ et 11."
   ]
  },
  {
   "cell_type": "code",
   "execution_count": null,
   "metadata": {
    "Collapsed": "false"
   },
   "outputs": [],
   "source": []
  },
  {
   "cell_type": "markdown",
   "metadata": {
    "Collapsed": "false"
   },
   "source": [
    "4. Afin d'éviter une boucle infinie, ajouter un nombre maximum d'itération. Ce nombre pourra être de $10^6$ par défaut. La fonction devra de plus renvoyer le nombre d'itération faites.\n",
    " Tester votre condition d'arrêt pour $x \\mapsto 2 x$."
   ]
  },
  {
   "cell_type": "code",
   "execution_count": null,
   "metadata": {
    "Collapsed": "false"
   },
   "outputs": [],
   "source": []
  },
  {
   "cell_type": "code",
   "execution_count": null,
   "metadata": {
    "Collapsed": "false"
   },
   "outputs": [],
   "source": []
  }
 ],
 "metadata": {
  "anaconda-cloud": {},
  "kernelspec": {
   "display_name": "Python 3",
   "language": "python",
   "name": "python3"
  },
  "language_info": {
   "codemirror_mode": {
    "name": "ipython",
    "version": 3
   },
   "file_extension": ".py",
   "mimetype": "text/x-python",
   "name": "python",
   "nbconvert_exporter": "python",
   "pygments_lexer": "ipython3",
   "version": "3.7.3"
  }
 },
 "nbformat": 4,
 "nbformat_minor": 4
}
