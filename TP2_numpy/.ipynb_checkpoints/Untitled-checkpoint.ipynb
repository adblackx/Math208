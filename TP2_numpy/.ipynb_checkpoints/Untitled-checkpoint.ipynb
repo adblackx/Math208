{
 "cells": [
  {
   "cell_type": "code",
   "execution_count": 2,
   "metadata": {},
   "outputs": [
    {
     "name": "stdout",
     "output_type": "stream",
     "text": [
      "Writing MonScript.py\n"
     ]
    }
   ],
   "source": [
    "%%writefile MonScript.py\n",
    "# -* - coding : utf -8 -* -\n",
    "print (\"Voici mon premier script\" )"
   ]
  },
  {
   "cell_type": "code",
   "execution_count": 3,
   "metadata": {},
   "outputs": [
    {
     "name": "stdout",
     "output_type": "stream",
     "text": [
      "Voici mon premier script\n"
     ]
    }
   ],
   "source": [
    "%run MonScript.py"
   ]
  },
  {
   "cell_type": "code",
   "execution_count": 16,
   "metadata": {},
   "outputs": [
    {
     "name": "stdout",
     "output_type": "stream",
     "text": [
      "Overwriting MonScript1.py\n"
     ]
    }
   ],
   "source": [
    "%%writefile MonScript1.py\n",
    "# -* - coding : utf -8 -* -\n",
    "nb = int(input(\"Entrez le premier nombre\"))\n",
    "nb1 = int(input(\"Entrez le second nombre\"))\n",
    "print( nb,\" + \", nb1, \"= \", nb +nb1)"
   ]
  },
  {
   "cell_type": "code",
   "execution_count": 17,
   "metadata": {},
   "outputs": [
    {
     "name": "stdout",
     "output_type": "stream",
     "text": [
      "Entrez le premier nombre10\n",
      "Entrez le second nombre20\n",
      "10  +  20 =  30\n"
     ]
    }
   ],
   "source": [
    "%run MonScript1.py"
   ]
  },
  {
   "cell_type": "code",
   "execution_count": 14,
   "metadata": {},
   "outputs": [],
   "source": [
    "import numpy as np\n",
    "# D e s o r m a i s les c o m m a n d e s numpy sont d i s p o n i b l e s .\n",
    "# Il faut juste les p r e f i x e r par \" np .\"\n",
    "A = np.array([1,2]) # Cr é e un tableau de d i m e n s i o n 1 à 2 é lements\n",
    "# dont le premier vaut 1 , le second 2"
   ]
  },
  {
   "cell_type": "code",
   "execution_count": 18,
   "metadata": {},
   "outputs": [
    {
     "name": "stdout",
     "output_type": "stream",
     "text": [
      "[0. 0. 0.]\n",
      "[[1. 1. 1.]]\n",
      "<class 'numpy.ndarray'>\n",
      "<class 'list'>\n",
      "<class 'numpy.ndarray'>\n",
      "[1 2 3]\n",
      "[[1 2 3]\n",
      " [4 5 6]]\n",
      "[[4.9e-324 9.9e-324 1.5e-323]\n",
      " [2.0e-323 2.5e-323 3.0e-323]]\n",
      "[[ 0.84147098  0.90929743  0.14112001]\n",
      " [-0.7568025  -0.95892427 -0.2794155 ]]\n"
     ]
    }
   ],
   "source": [
    "X,Y = np.zeros(3),np.ones((1,3)) # v e c t e u r s de 0 ou de 1\n",
    "print(X)\n",
    "print(Y)\n",
    "print (type(X))\n",
    "T = [1,2,3]\n",
    "print(type(T)) # T est une liste\n",
    "X = np.array(T) # on peut c o n v e r t i r les types ( sans faire de copie )\n",
    "print(type(X))\n",
    "print(X)\n",
    "X = np.array([[1,2,3],[4,5,6]]) # tableau 2 D saisi a la main\n",
    "print(X)\n",
    "Y = np.empty(X.shape) # tableau 2 D vide pour r e s e r v e r la place memoire\n",
    "print(Y)\n",
    "Y = np.sin( X )\n",
    "print(Y)"
   ]
  },
  {
   "cell_type": "code",
   "execution_count": 20,
   "metadata": {},
   "outputs": [
    {
     "name": "stdout",
     "output_type": "stream",
     "text": [
      "[[2 3 4]\n",
      " [5 6 7]]\n",
      "[[ 2  4  6]\n",
      " [ 8 10 12]]\n",
      "[[ 1  4  9]\n",
      " [16 25 36]]\n",
      "[[1. 1. 1.]\n",
      " [1. 1. 1.]]\n",
      "[[1. 0. 0.]\n",
      " [0. 1. 0.]\n",
      " [0. 0. 1.]]\n",
      " Les op é rations sont termes à termes : X + Y =  [[1.84147098 2.90929743 3.14112001]\n",
      " [3.2431975  4.04107573 5.7205845 ]]  \\ n ␣ et ␣ X * Y = ␣  [[ 0.84147098  1.81859485  0.42336002]\n",
      " [-3.02720998 -4.79462137 -1.67649299]]\n"
     ]
    }
   ],
   "source": [
    "print (X+1) # ajoute un à tous les e l e m e n t s\n",
    "print (2*X) # m u l t i p l i e par 2 tous les e l e m e n t s\n",
    "print (X**2) # é l è ve au carr é tous les e l e m e n t sprint ( np . zeros ((2 ,3))) # m a t r i c e s r e c t a n g u l a i r e s de 0\n",
    "print (np.ones ((2 ,3))) # m a t r i c e s r e c t a n g u l a i r e s de 1\n",
    "print (np.eye (3)) # matrice i d e n t i t e\n",
    "Z = np.ones ( X . shape )\n",
    "print (\" Les op é rations sont termes à termes : X + Y = \" ,X +Y , \" \\ n ␣ et ␣ X * Y = ␣ \" ,X * Y )"
   ]
  },
  {
   "cell_type": "code",
   "execution_count": 24,
   "metadata": {},
   "outputs": [
    {
     "name": "stdout",
     "output_type": "stream",
     "text": [
      "x:  [ 0  2  4  6  8 10 12 14 16 18]\n",
      "x[1:]  [ 2  4  6  8 10 12 14 16 18]\n",
      "x[2:5]  [4 6 8]\n",
      "[ 8 12 16]\n",
      " dernier élément =  18  et avant dernier =  16\n",
      "[[2]\n",
      " [4]]\n"
     ]
    }
   ],
   "source": [
    "import numpy as np\n",
    "x = np.arange (0 ,20 ,2)\n",
    "print(\"x: \", x)\n",
    "print(\"x[1:] \", x[1:])\n",
    "print(\"x[2:5] \", x[2:5])\n",
    "print(x[4:10:2]) # ici on va de 4 à 10 mais de 2 en 2.\n",
    "print( \" dernier élément = \" , x [ -1] , \" et avant dernier = \" ,x [ -2])\n",
    "z = np.array([[1 ,2 ,3] ,[2 ,4 ,6]])\n",
    "print (z[: ,1:2])"
   ]
  },
  {
   "cell_type": "code",
   "execution_count": 26,
   "metadata": {},
   "outputs": [
    {
     "name": "stdout",
     "output_type": "stream",
     "text": [
      " A =  [0 1 2 3 4 5 6 7 8 9]\n",
      " A =  [2 1 2 3 4 5 6 7 8 9]  et B =  [2 1 2 3 4 5 6 7 8 9]\n",
      "[0 1 2 3 4 5 6 7 8 9]\n",
      " A =  [0 1 2 3 4 5 6 7 8 9]  et B =  [2 1 2 3 4 5 6 7 8 9]\n"
     ]
    }
   ],
   "source": [
    "import numpy as np\n",
    "# Ne pas u t i l i s e r le é gal pour copier le contenu d ’ un tableau\n",
    "A = np . arange (10)\n",
    "print ( \" A = \" ,A )\n",
    "B = A\n",
    "B [0] = 2\n",
    "print ( \" A = \" , A , \" et B = \" , B )\n",
    "# U t i l i s e r la m é thode copie :\n",
    "A = np . arange (10)\n",
    "print ( A )\n",
    "B = A . copy ()\n",
    "B [0] = 2\n",
    "print ( \" A = \" , A , \" et B = \" , B )"
   ]
  },
  {
   "cell_type": "code",
   "execution_count": 32,
   "metadata": {},
   "outputs": [
    {
     "name": "stdout",
     "output_type": "stream",
     "text": [
      " A =  [0 1 2 3 4 5 6 7 8 9]\n",
      " A =  [0 1 2 3 4 5 6 7 8 9]  et B =  [2 1 2 3 4 5 6 7 8 9]\n"
     ]
    }
   ],
   "source": [
    "import numpy as np\n",
    "# Ne pas u t i l i s e r le é gal pour copier le contenu d ’ un tableau\n",
    "A = np.arange(10)\n",
    "print ( \" A = \",A )\n",
    "B = 1* A\n",
    "B [0] = 2\n",
    "print ( \" A = \", A, \" et B = \", B )"
   ]
  },
  {
   "cell_type": "code",
   "execution_count": 31,
   "metadata": {},
   "outputs": [],
   "source": [
    "# Exrice 2.3\n",
    "import numpy as np"
   ]
  },
  {
   "cell_type": "code",
   "execution_count": 117,
   "metadata": {},
   "outputs": [
    {
     "name": "stdout",
     "output_type": "stream",
     "text": [
      "[[1. 1. 1.]\n",
      " [1. 1. 1.]]\n",
      "[[1]\n",
      " [2]]\n",
      "(2, 3)\n",
      "6\n",
      "2\n",
      "float64\n",
      "6.0\n",
      "\n",
      "\n",
      "(2, 1)\n",
      "2\n",
      "2\n",
      "int64\n",
      "3\n"
     ]
    }
   ],
   "source": [
    "A = np.ones((2,3))\n",
    "print(A)\n",
    "#x = np.ones((2))\n",
    "#x = \n",
    "Xi = [[1],[2]]\n",
    "x = np.array(Xi)\n",
    "\n",
    "A1= np.array([[1,2],[1,2]])\n",
    "print(x)\n",
    "\n",
    "x1= np.array([[3,4],[5,6]])\n",
    "#print(type(A))\n",
    "#print(type(x))\n",
    "\n",
    "print(A.shape)\n",
    "print(A.size)\n",
    "print(A.ndim)\n",
    "print(A.dtype)\n",
    "print(A.sum())\n",
    "print(\"\\n\")\n",
    "print(x.shape)\n",
    "print(x.size)\n",
    "print(x.ndim)\n",
    "print(x.dtype)\n",
    "print(x.sum())\n",
    "\n",
    "#print(A, x)"
   ]
  },
  {
   "cell_type": "code",
   "execution_count": 122,
   "metadata": {},
   "outputs": [
    {
     "name": "stdout",
     "output_type": "stream",
     "text": [
      "3\n",
      "2\n",
      "3.0\n",
      "3.0\n",
      "2.0\n",
      "2.0\n",
      "[[1 2]\n",
      " [1 2]]\n",
      "[2 4]\n",
      "[3 3]\n",
      "[[1. 1. 1.]\n",
      " [2. 2. 2.]]\n",
      "[[13 16]\n",
      " [13 16]]\n",
      "[[13 16]\n",
      " [13 16]]\n"
     ]
    }
   ],
   "source": [
    "#pour la colonne\n",
    "print(A.shape[1])\n",
    "#pour la ligne\n",
    "print(A.shape[0])\n",
    "\n",
    "#pour le produit des coefficients sur les lignes\n",
    "print(np.sum(A[0]))\n",
    "print(np.sum(A[1]))\n",
    "#A[0:1]\n",
    "#pour les colonnes\n",
    "print(np.sum(A[:,0]))\n",
    "print(np.sum(A[:,1]))\n",
    "\n",
    "print(A1)\n",
    "print(A1.sum(0))\n",
    "print(A1.sum(1))\n",
    "\n",
    "print((A*x))\n",
    "print(A1.dot(x1))\n",
    "print(np.dot(A1, x1))"
   ]
  },
  {
   "cell_type": "code",
   "execution_count": 147,
   "metadata": {},
   "outputs": [
    {
     "name": "stdout",
     "output_type": "stream",
     "text": [
      "[[ 7  0]\n",
      " [-1  5]\n",
      " [-1  2]]\n",
      "[[ 7 28]\n",
      " [-6 -4]\n",
      " [-3 -4]]\n",
      "62\n",
      "62\n",
      "138\n",
      "[[51 -7]\n",
      " [-7 29]]\n",
      "[[49 -7 -7]\n",
      " [-7 26 11]\n",
      " [-7 11  5]]\n"
     ]
    }
   ],
   "source": [
    "#exo 2.4\n",
    "A= np.array([[7,0],[-1, 5], [-1, 2]])\n",
    "print(A1)\n",
    "\n",
    "B= np.array([[1,4],[-1, 0]])\n",
    "C= np.array([7,3])\n",
    "D= np.array([8,2])\n",
    "\n",
    "print(np.dot(A,B))\n",
    "print(np.dot(C,D))\n",
    "print(np.dot(D,C))\n",
    "print(np.dot(np.dot(D,B),C))\n",
    "print(np.dot(np.transpose(A),A))\n",
    "print(np.dot(A, np.transpose(A)))"
   ]
  },
  {
   "cell_type": "code",
   "execution_count": 249,
   "metadata": {},
   "outputs": [
    {
     "name": "stdout",
     "output_type": "stream",
     "text": [
      "[ 1  2  3  4  5  6  7  8  9 10 11 12 13 14 15 16]\n",
      "[0.  0.2 0.4 0.6 0.8 1.  1.2 1.4 1.6 1.8 2. ]\n",
      "[ 2  4  8 16 32 64]\n"
     ]
    }
   ],
   "source": [
    "print(np.arange(1,17,1))\n",
    "print(np.arange(0,2.2,0.2))\n",
    "a=np.arange(1,7,1)\n",
    "print(2**a)"
   ]
  },
  {
   "cell_type": "markdown",
   "metadata": {},
   "source": []
  },
  {
   "cell_type": "code",
   "execution_count": 250,
   "metadata": {},
   "outputs": [
    {
     "name": "stdout",
     "output_type": "stream",
     "text": [
      "[1 2 3 4 5 6]\n"
     ]
    }
   ],
   "source": [
    "a = np.array(np.arange(1,7,1))\n",
    "print(a)"
   ]
  },
  {
   "cell_type": "code",
   "execution_count": null,
   "metadata": {},
   "outputs": [],
   "source": [
    "# manque le 2.5 2 A"
   ]
  },
  {
   "cell_type": "code",
   "execution_count": 253,
   "metadata": {},
   "outputs": [
    {
     "name": "stdout",
     "output_type": "stream",
     "text": [
      "[0.  0.1 0.2 0.3 0.4 0.5 0.6 0.7 0.8 0.9 1. ] [0.  0.1 0.2 0.3 0.4 0.5 0.6 0.7 0.8 0.9 1. ] \n",
      "\n",
      "[[0.  0.1 0.2 0.3 0.4 0.5 0.6 0.7 0.8 0.9 1. ]\n",
      " [0.  0.1 0.2 0.3 0.4 0.5 0.6 0.7 0.8 0.9 1. ]\n",
      " [0.  0.1 0.2 0.3 0.4 0.5 0.6 0.7 0.8 0.9 1. ]]\n",
      "[[0.  0.  0.  0.  0.  0.  0.  0.  0.  0.  0. ]\n",
      " [0.5 0.5 0.5 0.5 0.5 0.5 0.5 0.5 0.5 0.5 0.5]\n",
      " [1.  1.  1.  1.  1.  1.  1.  1.  1.  1.  1. ]]\n"
     ]
    }
   ],
   "source": [
    "x0 = np.linspace(0,1,11)\n",
    "y0 = np.linspace(0,1,3)\n",
    "print(x0, x0, \"\\n\")\n",
    "x,y = np.meshgrid(x0, y0)\n",
    "print(x)\n",
    "print(y)"
   ]
  },
  {
   "cell_type": "code",
   "execution_count": 225,
   "metadata": {},
   "outputs": [
    {
     "name": "stdout",
     "output_type": "stream",
     "text": [
      "[[2 0 0 ... 0 0 0]\n",
      " [0 2 0 ... 0 0 0]\n",
      " [0 0 2 ... 0 0 0]\n",
      " ...\n",
      " [0 0 0 ... 2 0 0]\n",
      " [0 0 0 ... 0 2 0]\n",
      " [0 0 0 ... 0 0 2]]\n",
      "[[ 2 -1  0 ...  0  0  0]\n",
      " [-1  2 -1 ...  0  0  0]\n",
      " [ 0 -1  2 ...  0  0  0]\n",
      " ...\n",
      " [ 0  0  0 ...  2 -1  0]\n",
      " [ 0  0  0 ... -1  2 -1]\n",
      " [ 0  0  0 ...  0 -1  2]]\n"
     ]
    }
   ],
   "source": [
    "n = 50\n",
    "lapla = 2*np.eye(n, dtype=int)\n",
    "v = -np.ones(49, dtype=int)\n",
    "print(lapla)\n",
    "lapla += np.diag(v , -1) + np.diag(v,1)\n",
    "print(lapla)"
   ]
  },
  {
   "cell_type": "code",
   "execution_count": 234,
   "metadata": {},
   "outputs": [
    {
     "name": "stdout",
     "output_type": "stream",
     "text": [
      "[[1. 1. 1. 1. 1. 1. 1. 1. 1. 1.]\n",
      " [1. 1. 0. 0. 0. 0. 0. 0. 0. 1.]\n",
      " [1. 0. 1. 0. 0. 0. 0. 0. 0. 1.]\n",
      " [1. 0. 0. 1. 0. 0. 0. 0. 0. 1.]\n",
      " [1. 0. 0. 0. 1. 0. 0. 0. 0. 1.]\n",
      " [1. 0. 0. 0. 0. 1. 0. 0. 0. 1.]\n",
      " [1. 0. 0. 0. 0. 0. 1. 0. 0. 1.]\n",
      " [1. 0. 0. 0. 0. 0. 0. 1. 0. 1.]\n",
      " [1. 0. 0. 0. 0. 0. 0. 0. 1. 1.]\n",
      " [1. 1. 1. 1. 1. 1. 1. 1. 1. 1.]]\n"
     ]
    }
   ],
   "source": [
    "A = np.eye(10)\n",
    "A[0,:] = 1\n",
    "A[-1,:] = 1\n",
    "A[:,0] = 1\n",
    "A[:,-1] = 1\n",
    "print(A)"
   ]
  },
  {
   "cell_type": "code",
   "execution_count": 237,
   "metadata": {},
   "outputs": [
    {
     "name": "stdout",
     "output_type": "stream",
     "text": [
      "[[ 0  1  2  3  4  5  6  7]\n",
      " [ 1  2  3  4  5  6  7  8]\n",
      " [ 2  3  4  5  6  7  8  9]\n",
      " [ 3  4  5  6  7  8  9 10]\n",
      " [ 4  5  6  7  8  9 10 11]\n",
      " [ 5  6  7  8  9 10 11 12]\n",
      " [ 6  7  8  9 10 11 12 13]\n",
      " [ 7  8  9 10 11 12 13 14]]\n",
      "[[1 0 1 0 1 0 1 0]\n",
      " [0 1 0 1 0 1 0 1]\n",
      " [1 0 1 0 1 0 1 0]\n",
      " [0 1 0 1 0 1 0 1]\n",
      " [1 0 1 0 1 0 1 0]\n",
      " [0 1 0 1 0 1 0 1]\n",
      " [1 0 1 0 1 0 1 0]\n",
      " [0 1 0 1 0 1 0 1]]\n"
     ]
    }
   ],
   "source": [
    "n = 8\n",
    "x ,y = np.meshgrid(np.arange(n), np.arange(n))\n",
    "T0 = x+y\n",
    "print(T0)\n",
    "T = np.where(T0%2==0,1,0)\n",
    "print(T)"
   ]
  },
  {
   "cell_type": "code",
   "execution_count": null,
   "metadata": {},
   "outputs": [],
   "source": []
  }
 ],
 "metadata": {
  "kernelspec": {
   "display_name": "Python 3",
   "language": "python",
   "name": "python3"
  },
  "language_info": {
   "codemirror_mode": {
    "name": "ipython",
    "version": 3
   },
   "file_extension": ".py",
   "mimetype": "text/x-python",
   "name": "python",
   "nbconvert_exporter": "python",
   "pygments_lexer": "ipython3",
   "version": "3.7.3"
  }
 },
 "nbformat": 4,
 "nbformat_minor": 2
}
