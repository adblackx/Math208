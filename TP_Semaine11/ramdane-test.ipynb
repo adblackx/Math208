{
 "cells": [
  {
   "cell_type": "code",
   "execution_count": 1,
   "metadata": {},
   "outputs": [],
   "source": [
    "import numpy as np\n",
    "import matplotlib.pyplot as plt\n",
    "%matplotlib inline\n",
    "%config InlineBackend.figure_format = 'retina'"
   ]
  },
  {
   "cell_type": "code",
   "execution_count": 100,
   "metadata": {},
   "outputs": [],
   "source": [
    "def en_chiffre( chaine):\n",
    "    res = \"\"\n",
    "    premiere = 0\n",
    "    millier = 0\n",
    "    centaine = 0\n",
    "    compteur =0\n",
    "    \n",
    "    for lettre in chaine.split(\"-\"):\n",
    "        print(lettre)\n",
    "        if(premiere ==0 and lettre!=\"mille\" ):\n",
    "            millier=1\n",
    "            premiere==1\n",
    "        if(lettre==\"un\" ):\n",
    "            print(1)\n",
    "            res+=\"1\"\n",
    "            millier = 1\n",
    "        elif(lettre ==\"deux\"):\n",
    "            print(2)\n",
    "            res+=\"2\"\n",
    "        elif(lettre ==\"trois\"):\n",
    "            print(3)\n",
    "            res+=\"3\"\n",
    "        elif(lettre ==\"quatre\"):\n",
    "            print(4)\n",
    "            res+=\"4\"\n",
    "        elif(lettre ==\"cinq\"):\n",
    "            print(5)\n",
    "            res+=\"5\"\n",
    "        elif(lettre ==\"six\"):\n",
    "            print(6)\n",
    "            res+=\"6\"\n",
    "        elif(lettre ==\"sept\"):\n",
    "            print(7)\n",
    "            res+=\"7\"\n",
    "        elif(lettre ==\"huit\"):\n",
    "            print(8)\n",
    "            res+=\"8\"\n",
    "        elif(lettre ==\"neuf\"):\n",
    "            print(9)\n",
    "            res+=\"9\"\n",
    "        elif(lettre ==\"dix\"):\n",
    "            print(10)\n",
    "        elif(lettre == \"trente\"):\n",
    "            res+=\"3\"\n",
    "        elif(lettre == \"cent\" and len(res)<1):\n",
    "            res+=\"1\"\n",
    "            centaine=1\n",
    "        elif(lettre == \"mille\" and len(res)<1):\n",
    "            res+=\"1\"\n",
    "            mille=1\n",
    "            \n",
    "    \n",
    "    \n",
    "    return int(res)\n",
    "        "
   ]
  },
  {
   "cell_type": "code",
   "execution_count": 101,
   "metadata": {},
   "outputs": [
    {
     "name": "stdout",
     "output_type": "stream",
     "text": [
      "neuf\n",
      "9\n",
      "mille\n",
      "huit\n",
      "8\n",
      "cent\n",
      "trente\n",
      "deux\n",
      "2\n"
     ]
    },
    {
     "data": {
      "text/plain": [
       "9832"
      ]
     },
     "execution_count": 101,
     "metadata": {},
     "output_type": "execute_result"
    }
   ],
   "source": [
    "en_chiffre(\"neuf-mille-huit-cent-trente-deux\")"
   ]
  },
  {
   "cell_type": "code",
   "execution_count": 102,
   "metadata": {},
   "outputs": [
    {
     "name": "stdout",
     "output_type": "stream",
     "text": [
      "mille\n",
      "neuf\n",
      "9\n",
      "cent\n",
      "deux\n",
      "2\n"
     ]
    },
    {
     "data": {
      "text/plain": [
       "192"
      ]
     },
     "execution_count": 102,
     "metadata": {},
     "output_type": "execute_result"
    }
   ],
   "source": [
    "en_chiffre(\"mille-neuf-cent-deux\")"
   ]
  },
  {
   "cell_type": "code",
   "execution_count": 93,
   "metadata": {},
   "outputs": [
    {
     "name": "stdout",
     "output_type": "stream",
     "text": [
      "10\n"
     ]
    }
   ],
   "source": [
    "s = \"\"\n",
    "s +=\"10\"\n",
    "print(s)"
   ]
  },
  {
   "cell_type": "code",
   "execution_count": 105,
   "metadata": {},
   "outputs": [
    {
     "name": "stdout",
     "output_type": "stream",
     "text": [
      "deux\n",
      "2\n",
      "cent\n",
      "trente\n"
     ]
    },
    {
     "data": {
      "text/plain": [
       "23"
      ]
     },
     "execution_count": 105,
     "metadata": {},
     "output_type": "execute_result"
    }
   ],
   "source": [
    "en_chiffre(\"deux-cent-trente\")"
   ]
  },
  {
   "cell_type": "code",
   "execution_count": null,
   "metadata": {},
   "outputs": [],
   "source": []
  }
 ],
 "metadata": {
  "kernelspec": {
   "display_name": "Python 3",
   "language": "python",
   "name": "python3"
  },
  "language_info": {
   "codemirror_mode": {
    "name": "ipython",
    "version": 3
   },
   "file_extension": ".py",
   "mimetype": "text/x-python",
   "name": "python",
   "nbconvert_exporter": "python",
   "pygments_lexer": "ipython3",
   "version": "3.7.3"
  }
 },
 "nbformat": 4,
 "nbformat_minor": 2
}
