{
 "cells": [
  {
   "cell_type": "markdown",
   "metadata": {},
   "source": [
    "# Algorithmes de tri\n",
    "\n",
    "Le but de ce TP est de produire des algorithmes de tri : partanat d'un tableau d'éléments, il s'agit de retourné le tableau `t` trié, c'est-à-dire tel que pour tout $i, t[i] \\leqslant t[i+1]$."
   ]
  },
  {
   "cell_type": "code",
   "execution_count": 5,
   "metadata": {},
   "outputs": [],
   "source": [
    "import numpy as np\n",
    "import numpy.random as npr\n",
    "import string as st\n",
    "from itertools import product"
   ]
  },
  {
   "cell_type": "markdown",
   "metadata": {},
   "source": [
    "## Prérequis\n",
    "\n",
    "Nous allons voir que les codes pythons que nous allons écrire marchent aussi bien pour trier des nombres que des lettres ou des mots.\n",
    "\n",
    "**Question**\n",
    "1. Ecrire une fonction `random_f(n)` qui génère un tableau aléatoire à $n$ éléments de nombres décimaux compris entre -5 et 5.\n",
    "2. Ecrire une fonction `random_s(n)` qui génère un tableau à $n$ éléments de lettres. On pourra utiliser la fonction `choice` du module `numpy.random` et l'attribut `ascii_letters` du module `string`.\n",
    "3. Dans une fonction `random_w(n)`, définir une liste de mots de votre choix puis à l'aide de la fonction `choice` de `numpy.random`, renvoyer un tableau de $n$ mots choisis aléatoirements.\n",
    "\n",
    "*Indications :*\n",
    "* On pourra utiliser l'aide de python pour voir comment utiliser les fonctions indiquées.\n",
    "* Pour obtenir une liste contenant l'alphabet, on utilisera :\n",
    "```alphabet = listmap(''.join, product(st.ascii_lowercase)))```"
   ]
  },
  {
   "cell_type": "code",
   "execution_count": 48,
   "metadata": {},
   "outputs": [],
   "source": [
    "def random_f(n):\n",
    "    '''Renvoie un tableau aléatoire à n éléments, \n",
    "    chaque éléments étant obtenu par réalisation d'une loi uniforme à support dans [-5;5]\n",
    "    '''\n",
    "    return npr.uniform(-5,5,10)"
   ]
  },
  {
   "cell_type": "code",
   "execution_count": 49,
   "metadata": {},
   "outputs": [
    {
     "name": "stdout",
     "output_type": "stream",
     "text": [
      "[ 2.92829707  1.93318517  1.48670225  2.18612421 -3.68999637  1.18888832\n",
      "  3.51662011  4.29491426  3.88986442 -1.71816406]\n"
     ]
    }
   ],
   "source": [
    "res = np.ndarray(shape=10)\n",
    "for i in np.arange((10)):\n",
    "    res[i] =  -10*npr.random()+5\n",
    "    # ((min - max)*npr.random()   + max)\n",
    "print(res)"
   ]
  },
  {
   "cell_type": "code",
   "execution_count": 79,
   "metadata": {},
   "outputs": [],
   "source": [
    "def random_s(n):\n",
    "    '''Renvoie un tableau de taille n rempli de lettres tirées aléatoirement.'''\n",
    "    alphabet = list(map(''.join, product(st.ascii_lowercase)))\n",
    "    return npr.choice(alphabet, n)"
   ]
  },
  {
   "cell_type": "code",
   "execution_count": 80,
   "metadata": {},
   "outputs": [
    {
     "data": {
      "text/plain": [
       "array(['m', 't', 'k', 'm', 'j', 'w', 'a', 'g', 'a', 'c'], dtype='<U1')"
      ]
     },
     "execution_count": 80,
     "metadata": {},
     "output_type": "execute_result"
    }
   ],
   "source": [
    "random_s(10)"
   ]
  },
  {
   "cell_type": "code",
   "execution_count": 81,
   "metadata": {
    "scrolled": true
   },
   "outputs": [
    {
     "ename": "ValueError",
     "evalue": "'a' must be 1-dimensional or an integer",
     "output_type": "error",
     "traceback": [
      "\u001b[0;31m---------------------------------------------------------------------------\u001b[0m",
      "\u001b[0;31mTypeError\u001b[0m                                 Traceback (most recent call last)",
      "\u001b[0;32mmtrand.pyx\u001b[0m in \u001b[0;36mmtrand.RandomState.choice\u001b[0;34m()\u001b[0m\n",
      "\u001b[0;31mTypeError\u001b[0m: 'str' object cannot be interpreted as an integer",
      "\nDuring handling of the above exception, another exception occurred:\n",
      "\u001b[0;31mValueError\u001b[0m                                Traceback (most recent call last)",
      "\u001b[0;32m<ipython-input-81-21fd7ca9d9c2>\u001b[0m in \u001b[0;36m<module>\u001b[0;34m\u001b[0m\n\u001b[1;32m      1\u001b[0m \u001b[0;31m#print(st.ascii_letters)\u001b[0m\u001b[0;34m\u001b[0m\u001b[0;34m\u001b[0m\u001b[0;34m\u001b[0m\u001b[0m\n\u001b[0;32m----> 2\u001b[0;31m \u001b[0mres\u001b[0m \u001b[0;34m=\u001b[0m \u001b[0mnp\u001b[0m\u001b[0;34m.\u001b[0m\u001b[0mrandom\u001b[0m\u001b[0;34m.\u001b[0m\u001b[0mchoice\u001b[0m\u001b[0;34m(\u001b[0m\u001b[0mst\u001b[0m\u001b[0;34m.\u001b[0m\u001b[0mascii_letters\u001b[0m\u001b[0;34m,\u001b[0m \u001b[0;36m2\u001b[0m\u001b[0;34m)\u001b[0m\u001b[0;34m\u001b[0m\u001b[0;34m\u001b[0m\u001b[0m\n\u001b[0m",
      "\u001b[0;32mmtrand.pyx\u001b[0m in \u001b[0;36mmtrand.RandomState.choice\u001b[0;34m()\u001b[0m\n",
      "\u001b[0;31mValueError\u001b[0m: 'a' must be 1-dimensional or an integer"
     ]
    }
   ],
   "source": [
    "#print(st.ascii_letters)\n",
    "res = np.random.choice(st.ascii_letters, 2)"
   ]
  },
  {
   "cell_type": "code",
   "execution_count": 85,
   "metadata": {},
   "outputs": [],
   "source": [
    "def random_w(n):\n",
    "    ''' Renvoie un tableau de n mots choisis aléatoirement parmis une liste donnée.'''\n",
    "    mots = np.array([\"rm11\", \"dz\",\"benzema\",\"kb9\"])\n",
    "    alphabet = list(map(''.join, product(mots)))\n",
    "    return npr.choice(alphabet, n)"
   ]
  },
  {
   "cell_type": "code",
   "execution_count": 88,
   "metadata": {
    "scrolled": true
   },
   "outputs": [
    {
     "data": {
      "text/plain": [
       "array(['benzema', 'kb9', 'kb9'], dtype='<U7')"
      ]
     },
     "execution_count": 88,
     "metadata": {},
     "output_type": "execute_result"
    }
   ],
   "source": [
    "random_w(3)"
   ]
  },
  {
   "cell_type": "markdown",
   "metadata": {},
   "source": [
    "## Tri par sélection\n",
    "\n",
    "**Algorithme**\n",
    "* Chercher le plus petit élément du tableau et l'échanger avec le premier élément du tableau,\n",
    "* Recommencer avec les éléments restants. \n",
    "\n",
    "**Questions**\n",
    "1. Implémenter ce tri de façon récursive.\n",
    "2. Implémenter ce tri à l'aide d'une boucle et sans récursion.\n",
    "3. Testez cette méthode."
   ]
  },
  {
   "cell_type": "code",
   "execution_count": 128,
   "metadata": {},
   "outputs": [
    {
     "name": "stdout",
     "output_type": "stream",
     "text": [
      "T = [-3.52985525 -0.3724003   0.79226554  0.31406763  3.64800044 -2.87337305\n",
      " -1.31192014  3.45094218  2.91796139 -0.83237151]\n",
      "T trié =  [-3.52985525 -2.87337305 -1.31192014 -0.83237151 -0.3724003   0.31406763\n",
      "  0.79226554  2.91796139  3.45094218  3.64800044]\n"
     ]
    }
   ],
   "source": [
    "def tri_select_rec(T,j=0):\n",
    "    \"\"\"Tri par sélection du tableau T\"\"\"\n",
    "    if(j < len(T)):\n",
    "        indexe_min = j\n",
    "        for i in range(j,len(T)):\n",
    "            if(T[indexe_min]>T[i]):\n",
    "                indexe_min = i\n",
    "                \n",
    "        temp = T[indexe_min]\n",
    "        T[indexe_min] = T[j]\n",
    "        T[j]= temp\n",
    "        tri_select_rec(T,j+1)\n",
    "\n",
    "    return T\n",
    "\n",
    "T = random_f(10)\n",
    "print(\"T =\",T)\n",
    "print(\"T trié = \",tri_select_rec(T))"
   ]
  },
  {
   "cell_type": "markdown",
   "metadata": {},
   "source": [
    "Complexite de n^2\n",
    "=> on cherche l'element le plus petit  n(n+1)/2 \n",
    "=> le cas au pire"
   ]
  },
  {
   "cell_type": "code",
   "execution_count": 135,
   "metadata": {},
   "outputs": [
    {
     "name": "stdout",
     "output_type": "stream",
     "text": [
      "T = [-3.39624967 -4.1079098  -2.09682241  1.07251628 -2.37122708 -0.65938371\n",
      "  1.66964531 -4.49238503  0.14303094  3.22718515]\n",
      "T trié =  [-4.49238503 -4.1079098  -3.39624967 -2.37122708 -2.09682241 -0.65938371\n",
      "  0.14303094  1.07251628  1.66964531  3.22718515]\n"
     ]
    }
   ],
   "source": [
    "def tri_select_for(T):\n",
    "    \"\"\"Tri par sélection du tableau T\"\"\"\n",
    "    for j in len(T):\n",
    "        indexe_min = i\n",
    "        for i in range(j,len(T)):\n",
    "            if(T[indexe_min]>T[i]):\n",
    "                indexe_min = i\n",
    "                \n",
    "        temp = T[indexe_min]\n",
    "        T[indexe_min] = T[j]\n",
    "        T[j]= temp\n",
    "        \n",
    "    return T\n",
    "T = random_f(10)\n",
    "print(\"T =\",T)\n",
    "print(\"T trié = \",tri_select_rec(T))"
   ]
  },
  {
   "cell_type": "markdown",
   "metadata": {},
   "source": [
    "## Tri rapide\n",
    "**Algorithme**\n",
    "1. Choisir un pivot $p$ (pour commencer, prenez le premier élément du tableau),\n",
    "2. Modifier le tableau tel que si le pivot se trouve à la position $i_p$, alors pour tout  $j <i_p$, $t[j]\\leqslant p=t[i_p]$ et pour tout  $j >i_p$, $t[j] > p=t[i_p]$,\n",
    "3. Recommencez avec les deux sous-tableaux $t[0:i_p]$ et $t[i_p:]$.\n",
    "\n",
    "**Question**\n",
    "\n",
    "Implémenter ce tri de façon récursive."
   ]
  },
  {
   "cell_type": "code",
   "execution_count": 213,
   "metadata": {},
   "outputs": [],
   "source": [
    "def partition_basique(t,lo,up):\n",
    "    \"\"\"\n",
    "    Partionne le tableau t[lo:up] c'est à dire fait des permutations et\n",
    "    renvoie un indice p entre lo et up tel que à l'issue de la fonction\n",
    "    t[lo:p-1] ne contienne que des éléments plus petits que t[p] et\n",
    "    t[p+1:up] ne contienne que des éléments plus grands que t[p].\n",
    "    \"\"\"\n",
    "    tabmin = []\n",
    "    tabmax = []\n",
    "    p = npr.np.random.randint(len(t))\n",
    "    \n",
    "    #p = 2\n",
    "    \n",
    "    for i in range(lo,up):\n",
    "        if(t[p]> t[i]):\n",
    "            tabmin.append(t[i])\n",
    "        elif(t[p]< t[i]):\n",
    "            tabmax.append(t[i])\n",
    "    print(tabmin, tabmax)\n",
    "    res = tabmin+[t[p]]+tabmax\n",
    "    print(res)\n",
    "    return res,len(tabmin)\n",
    "    \n",
    "def tri_rapide(t,lo,up):\n",
    "    \"Trie le tableau à l'aide d'une méthode de tri rapide.\"\n",
    "    p = npr.np.random.randint(len(t))\n",
    "    res, min1 = partition_basique(t, lo, up)\n",
    "    res = tri_rapide(res, min1+1,up)\n",
    "    res = tri_rapide(res, lo,min1)\n",
    "    return res\n",
    "    "
   ]
  },
  {
   "cell_type": "code",
   "execution_count": 214,
   "metadata": {},
   "outputs": [
    {
     "name": "stdout",
     "output_type": "stream",
     "text": [
      "[-1, -8] []\n",
      "[-1, -8, 1]\n"
     ]
    },
    {
     "data": {
      "text/plain": [
       "3"
      ]
     },
     "execution_count": 214,
     "metadata": {},
     "output_type": "execute_result"
    }
   ],
   "source": [
    "tab = [1,312,-1,51,-8]\n",
    "partition_basique(tab, 0, len(tab))\n",
    "np.random.randint(4)"
   ]
  },
  {
   "cell_type": "code",
   "execution_count": 215,
   "metadata": {},
   "outputs": [
    {
     "name": "stdout",
     "output_type": "stream",
     "text": [
      "[] []\n",
      "[-8]\n"
     ]
    },
    {
     "ename": "IndexError",
     "evalue": "list index out of range",
     "output_type": "error",
     "traceback": [
      "\u001b[0;31m---------------------------------------------------------------------------\u001b[0m",
      "\u001b[0;31mIndexError\u001b[0m                                Traceback (most recent call last)",
      "\u001b[0;32m<ipython-input-215-edd1580c4c61>\u001b[0m in \u001b[0;36m<module>\u001b[0;34m\u001b[0m\n\u001b[0;32m----> 1\u001b[0;31m \u001b[0mtri_rapide\u001b[0m\u001b[0;34m(\u001b[0m\u001b[0mtab\u001b[0m\u001b[0;34m,\u001b[0m\u001b[0;36m0\u001b[0m\u001b[0;34m,\u001b[0m \u001b[0mlen\u001b[0m\u001b[0;34m(\u001b[0m\u001b[0mtab\u001b[0m\u001b[0;34m)\u001b[0m\u001b[0;34m-\u001b[0m\u001b[0;36m1\u001b[0m\u001b[0;34m)\u001b[0m\u001b[0;34m\u001b[0m\u001b[0;34m\u001b[0m\u001b[0m\n\u001b[0m",
      "\u001b[0;32m<ipython-input-213-379752a3108a>\u001b[0m in \u001b[0;36mtri_rapide\u001b[0;34m(t, lo, up)\u001b[0m\n\u001b[1;32m     26\u001b[0m     \u001b[0mp\u001b[0m \u001b[0;34m=\u001b[0m \u001b[0mnpr\u001b[0m\u001b[0;34m.\u001b[0m\u001b[0mnp\u001b[0m\u001b[0;34m.\u001b[0m\u001b[0mrandom\u001b[0m\u001b[0;34m.\u001b[0m\u001b[0mrandint\u001b[0m\u001b[0;34m(\u001b[0m\u001b[0mlen\u001b[0m\u001b[0;34m(\u001b[0m\u001b[0mt\u001b[0m\u001b[0;34m)\u001b[0m\u001b[0;34m)\u001b[0m\u001b[0;34m\u001b[0m\u001b[0;34m\u001b[0m\u001b[0m\n\u001b[1;32m     27\u001b[0m     \u001b[0mres\u001b[0m\u001b[0;34m,\u001b[0m \u001b[0mmin1\u001b[0m \u001b[0;34m=\u001b[0m \u001b[0mpartition_basique\u001b[0m\u001b[0;34m(\u001b[0m\u001b[0mt\u001b[0m\u001b[0;34m,\u001b[0m \u001b[0mlo\u001b[0m\u001b[0;34m,\u001b[0m \u001b[0mup\u001b[0m\u001b[0;34m)\u001b[0m\u001b[0;34m\u001b[0m\u001b[0;34m\u001b[0m\u001b[0m\n\u001b[0;32m---> 28\u001b[0;31m     \u001b[0mres\u001b[0m \u001b[0;34m=\u001b[0m \u001b[0mtri_rapide\u001b[0m\u001b[0;34m(\u001b[0m\u001b[0mres\u001b[0m\u001b[0;34m,\u001b[0m \u001b[0mmin1\u001b[0m\u001b[0;34m,\u001b[0m\u001b[0mup\u001b[0m\u001b[0;34m)\u001b[0m\u001b[0;34m\u001b[0m\u001b[0;34m\u001b[0m\u001b[0m\n\u001b[0m\u001b[1;32m     29\u001b[0m     \u001b[0mres\u001b[0m \u001b[0;34m=\u001b[0m \u001b[0mtri_rapide\u001b[0m\u001b[0;34m(\u001b[0m\u001b[0mres\u001b[0m\u001b[0;34m,\u001b[0m \u001b[0mlo\u001b[0m\u001b[0;34m,\u001b[0m\u001b[0mmin1\u001b[0m\u001b[0;34m)\u001b[0m\u001b[0;34m\u001b[0m\u001b[0;34m\u001b[0m\u001b[0m\n\u001b[1;32m     30\u001b[0m     \u001b[0;32mreturn\u001b[0m \u001b[0mres\u001b[0m\u001b[0;34m\u001b[0m\u001b[0;34m\u001b[0m\u001b[0m\n",
      "\u001b[0;32m<ipython-input-213-379752a3108a>\u001b[0m in \u001b[0;36mtri_rapide\u001b[0;34m(t, lo, up)\u001b[0m\n\u001b[1;32m     25\u001b[0m     \u001b[0;34m\"Trie le tableau à l'aide d'une méthode de tri rapide.\"\u001b[0m\u001b[0;34m\u001b[0m\u001b[0;34m\u001b[0m\u001b[0m\n\u001b[1;32m     26\u001b[0m     \u001b[0mp\u001b[0m \u001b[0;34m=\u001b[0m \u001b[0mnpr\u001b[0m\u001b[0;34m.\u001b[0m\u001b[0mnp\u001b[0m\u001b[0;34m.\u001b[0m\u001b[0mrandom\u001b[0m\u001b[0;34m.\u001b[0m\u001b[0mrandint\u001b[0m\u001b[0;34m(\u001b[0m\u001b[0mlen\u001b[0m\u001b[0;34m(\u001b[0m\u001b[0mt\u001b[0m\u001b[0;34m)\u001b[0m\u001b[0;34m)\u001b[0m\u001b[0;34m\u001b[0m\u001b[0;34m\u001b[0m\u001b[0m\n\u001b[0;32m---> 27\u001b[0;31m     \u001b[0mres\u001b[0m\u001b[0;34m,\u001b[0m \u001b[0mmin1\u001b[0m \u001b[0;34m=\u001b[0m \u001b[0mpartition_basique\u001b[0m\u001b[0;34m(\u001b[0m\u001b[0mt\u001b[0m\u001b[0;34m,\u001b[0m \u001b[0mlo\u001b[0m\u001b[0;34m,\u001b[0m \u001b[0mup\u001b[0m\u001b[0;34m)\u001b[0m\u001b[0;34m\u001b[0m\u001b[0;34m\u001b[0m\u001b[0m\n\u001b[0m\u001b[1;32m     28\u001b[0m     \u001b[0mres\u001b[0m \u001b[0;34m=\u001b[0m \u001b[0mtri_rapide\u001b[0m\u001b[0;34m(\u001b[0m\u001b[0mres\u001b[0m\u001b[0;34m,\u001b[0m \u001b[0mmin1\u001b[0m\u001b[0;34m,\u001b[0m\u001b[0mup\u001b[0m\u001b[0;34m)\u001b[0m\u001b[0;34m\u001b[0m\u001b[0;34m\u001b[0m\u001b[0m\n\u001b[1;32m     29\u001b[0m     \u001b[0mres\u001b[0m \u001b[0;34m=\u001b[0m \u001b[0mtri_rapide\u001b[0m\u001b[0;34m(\u001b[0m\u001b[0mres\u001b[0m\u001b[0;34m,\u001b[0m \u001b[0mlo\u001b[0m\u001b[0;34m,\u001b[0m\u001b[0mmin1\u001b[0m\u001b[0;34m)\u001b[0m\u001b[0;34m\u001b[0m\u001b[0;34m\u001b[0m\u001b[0m\n",
      "\u001b[0;32m<ipython-input-213-379752a3108a>\u001b[0m in \u001b[0;36mpartition_basique\u001b[0;34m(t, lo, up)\u001b[0m\n\u001b[1;32m     15\u001b[0m         \u001b[0;32mif\u001b[0m\u001b[0;34m(\u001b[0m\u001b[0mt\u001b[0m\u001b[0;34m[\u001b[0m\u001b[0mp\u001b[0m\u001b[0;34m]\u001b[0m\u001b[0;34m>\u001b[0m \u001b[0mt\u001b[0m\u001b[0;34m[\u001b[0m\u001b[0mi\u001b[0m\u001b[0;34m]\u001b[0m\u001b[0;34m)\u001b[0m\u001b[0;34m:\u001b[0m\u001b[0;34m\u001b[0m\u001b[0;34m\u001b[0m\u001b[0m\n\u001b[1;32m     16\u001b[0m             \u001b[0mtabmin\u001b[0m\u001b[0;34m.\u001b[0m\u001b[0mappend\u001b[0m\u001b[0;34m(\u001b[0m\u001b[0mt\u001b[0m\u001b[0;34m[\u001b[0m\u001b[0mi\u001b[0m\u001b[0;34m]\u001b[0m\u001b[0;34m)\u001b[0m\u001b[0;34m\u001b[0m\u001b[0;34m\u001b[0m\u001b[0m\n\u001b[0;32m---> 17\u001b[0;31m         \u001b[0;32melif\u001b[0m\u001b[0;34m(\u001b[0m\u001b[0mt\u001b[0m\u001b[0;34m[\u001b[0m\u001b[0;36m1\u001b[0m\u001b[0;34m]\u001b[0m\u001b[0;34m<\u001b[0m \u001b[0mt\u001b[0m\u001b[0;34m[\u001b[0m\u001b[0mi\u001b[0m\u001b[0;34m]\u001b[0m\u001b[0;34m)\u001b[0m\u001b[0;34m:\u001b[0m\u001b[0;34m\u001b[0m\u001b[0;34m\u001b[0m\u001b[0m\n\u001b[0m\u001b[1;32m     18\u001b[0m             \u001b[0mtabmax\u001b[0m\u001b[0;34m.\u001b[0m\u001b[0mappend\u001b[0m\u001b[0;34m(\u001b[0m\u001b[0mt\u001b[0m\u001b[0;34m[\u001b[0m\u001b[0mi\u001b[0m\u001b[0;34m]\u001b[0m\u001b[0;34m)\u001b[0m\u001b[0;34m\u001b[0m\u001b[0;34m\u001b[0m\u001b[0m\n\u001b[1;32m     19\u001b[0m     \u001b[0mprint\u001b[0m\u001b[0;34m(\u001b[0m\u001b[0mtabmin\u001b[0m\u001b[0;34m,\u001b[0m \u001b[0mtabmax\u001b[0m\u001b[0;34m)\u001b[0m\u001b[0;34m\u001b[0m\u001b[0;34m\u001b[0m\u001b[0m\n",
      "\u001b[0;31mIndexError\u001b[0m: list index out of range"
     ]
    }
   ],
   "source": [
    "tri_rapide(tab,0, len(tab)-1)"
   ]
  },
  {
   "cell_type": "code",
   "execution_count": null,
   "metadata": {},
   "outputs": [],
   "source": [
    "# Tests du tri rapide\n",
    "T=random_f(10)\n",
    "print(\"T =\",T)\n",
    "tri_rapide(T,0,T.shape[0]-1)\n",
    "print(\"T trié = \",T)\n",
    "\n",
    "T=random_s(10)\n",
    "print(\"T =\",T)\n",
    "tri_rapide(T,0,T.shape[0]-1)\n",
    "print(\"T trié = \",T)\n",
    "\n",
    "T=random_w(10)\n",
    "print(\"T =\",T)\n",
    "tri_rapide(T,0,T.shape[0]-1)\n",
    "print(\"T trié = \",T)\n"
   ]
  },
  {
   "cell_type": "markdown",
   "metadata": {
    "hideOutput": true
   },
   "source": [
    "## Tri par insertion\n",
    "**Algorithme**\n",
    "Cette méthode fonctionne aussi par récurrence : \n",
    "1. à l'étape un on ne fait rien,\n",
    "2. à l'étape $i$, il faut que les $i$ premiers éléments du tableau soient triés.\n",
    "\n",
    "**Questions**\n",
    "\n",
    "Implémenter ce tri à l'aide d'une boucle et sans récursion."
   ]
  },
  {
   "cell_type": "markdown",
   "metadata": {},
   "source": [
    "nlog(n)"
   ]
  },
  {
   "cell_type": "code",
   "execution_count": 187,
   "metadata": {},
   "outputs": [
    {
     "name": "stdout",
     "output_type": "stream",
     "text": [
      "[2, 3, 24, 321, 11111111, 5, 6]\n",
      "[2, 3, 5, 6, 24, 321, 11111111]\n"
     ]
    }
   ],
   "source": [
    "A = [ 2, 3, 24, 321, 11111111,  5, 6]\n",
    "print (A)\n",
    "for j in range (1,len(A)) :\n",
    "    key = A[j]\n",
    "    i = j - 1\n",
    "    while i > 0 and A[i] > key:\n",
    "        A[i+1] = A[i]\n",
    "        i = i - 1\n",
    "    A[i+1] = key\n",
    "print (A)"
   ]
  },
  {
   "cell_type": "markdown",
   "metadata": {},
   "source": [
    "## Tri de Shell\n",
    "**Algorithme**\n",
    "\n",
    "Il s'agit d'une amélioration du tri par insertion. En effet, le tri par insertion est efficace quand le tableau est déjà presque trié. L'idée consiste à trier d'abord les sous tableaux formés par des éléments espacés de $pas$ éléments : \\verb+T[0:n:pas], T[1:n:pas], T[2:n:pas], ... T[pas-1:n:pas]+. En pratique les pas sont pris de plus en plus petits tels que le pas maximum soit inférieur à la taille du tableau divisée par 9 et le le pas suivant $pas(n)$ vérifie $pas(n+1) = 3 \\times pas(n) +1$.\n",
    "\n",
    "**Question**\n",
    "\n",
    "Implémenter ce tri à l'aide d'une boucle et sans récursion."
   ]
  },
  {
   "cell_type": "code",
   "execution_count": null,
   "metadata": {},
   "outputs": [],
   "source": []
  }
 ],
 "metadata": {
  "kernelspec": {
   "display_name": "Python 3",
   "language": "python",
   "name": "python3"
  },
  "language_info": {
   "codemirror_mode": {
    "name": "ipython",
    "version": 3
   },
   "file_extension": ".py",
   "mimetype": "text/x-python",
   "name": "python",
   "nbconvert_exporter": "python",
   "pygments_lexer": "ipython3",
   "version": "3.7.3"
  }
 },
 "nbformat": 4,
 "nbformat_minor": 2
}
