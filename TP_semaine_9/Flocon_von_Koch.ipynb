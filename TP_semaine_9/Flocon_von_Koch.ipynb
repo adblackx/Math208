{
 "cells": [
  {
   "cell_type": "code",
   "execution_count": 1,
   "metadata": {},
   "outputs": [],
   "source": [
    "import numpy as np\n",
    "import matplotlib.pyplot as plt"
   ]
  },
  {
   "cell_type": "markdown",
   "metadata": {},
   "source": [
    "# Flocon de von Koch\n",
    "\n",
    "Le flocon de von Koch est une fractale dont des approximations arbitrairement proches peuvent être obtenues de la manière récurrente par l'algorithme suivant :\n",
    "1. Commencer à partir d'une ligne polygonale quelconque du plan. (Le flocon canonique de von Koch se construit à partir d'un triangle équilatéral ayant une base parallèle à l'axe des abscisses.)\n",
    "2. Pour chaque segment de la ligne on divise le segment en trois segments de longueurs égales, on construit un triangle équilatéral ayant pour base le segment médian et on supprime le segment qui était la base du triangle.\n",
    "<img src=\"chapeau.png\"/>\n",
    "3. Recommencer à la deuxième étape avec la nouvelle ligne polygonale obtenue.\n",
    "<img src=\"von_koch.png\"/>"
   ]
  },
  {
   "cell_type": "markdown",
   "metadata": {},
   "source": [
    "Commençons par créer les deux lignes brisées initiales permettant de construire les flocons.\n",
    "\n",
    "1. La première ligne est constituée de deux points de coordonnées $(0,0)$ et $(1,0)$ par exemple. Créez une fonction `init_0()` qui retourne un tableau numpy de taille $(2,2)$ contenant ces points.\n",
    "\n",
    "2. La seconde ligne est constituée de quatre points de coordonnées $(0,0)$, $(1/2,\\sin(\\pi/3))$, $(1,0)$ et finalement $(0,0)$ pour revenir au point de départ. Créez une fonction `init_1()` qui retourne un tableau numpy de taille $(2,4)$ contenant ces points."
   ]
  },
  {
   "cell_type": "code",
   "execution_count": 2,
   "metadata": {},
   "outputs": [],
   "source": [
    "def init_0():\n",
    "    line = np.empty((2,2))\n",
    "    line[:,0] = np.array([0,0])    \n",
    "    line[:,1] = np.array([1,0])\n",
    "    #print(line)\n",
    "    return line\n",
    "\n",
    "def init_1():\n",
    "    line = np.empty((2,4))\n",
    "    line[:,0] = np.array([0,0])    \n",
    "    line[:,1] = np.array([0.5,np.sin(np.pi/3)])\n",
    "    line[:,2] = np.array([1,0])    \n",
    "    line[:,3] = np.array([0,0])\n",
    "    #print(line)\n",
    "    #print( line[1,3])\n",
    "    return line"
   ]
  },
  {
   "cell_type": "markdown",
   "metadata": {},
   "source": [
    "Tracez les deux lignes brisées intiales"
   ]
  },
  {
   "cell_type": "code",
   "execution_count": 3,
   "metadata": {},
   "outputs": [
    {
     "name": "stdout",
     "output_type": "stream",
     "text": [
      "[[0. 1.]\n",
      " [0. 0.]]\n",
      "[[0.        0.5       1.        0.       ]\n",
      " [0.        0.8660254 0.        0.       ]]\n"
     ]
    },
    {
     "data": {
      "text/plain": [
       "[<matplotlib.lines.Line2D at 0x7fa013c42f98>]"
      ]
     },
     "execution_count": 3,
     "metadata": {},
     "output_type": "execute_result"
    },
    {
     "data": {
      "image/png": "[encoded data removed]",
      "text/plain": [
       "<Figure size 720x720 with 1 Axes>"
      ]
     },
     "metadata": {
      "needs_background": "light"
     },
     "output_type": "display_data"
    }
   ],
   "source": [
    "tab0 = init_0()\n",
    "tab1 = init_1()\n",
    "fig, ax = plt.subplots(1,1,figsize=(10,10))\n",
    "print(tab0)\n",
    "print(tab1)\n",
    "#ax.plot(tab0[0], tab0[1])\n",
    "ax.plot(tab1[0], tab1[1])"
   ]
  },
  {
   "cell_type": "markdown",
   "metadata": {},
   "source": [
    "Programmez une fonction `construire_chapeau(extremites)` qui prend en argument un tableau `extremites` de taille $ 2 \\times 2 $ contenant les coordonnées des extremités d'un segment et qui renvoit un tableau `points` de taille $ 2 \\times 5 $ contenant les coordonnées des sommets de la ligne polygonale (&laquo; le chapeau de sorcière &raquo;) construite à partir de ce segment à l'étape 2 de l'algorithme."
   ]
  },
  {
   "cell_type": "code",
   "execution_count": 5,
   "metadata": {},
   "outputs": [
    {
     "ename": "IndentationError",
     "evalue": "unindent does not match any outer indentation level (<tokenize>, line 29)",
     "output_type": "error",
     "traceback": [
      "\u001b[0;36m  File \u001b[0;32m\"<tokenize>\"\u001b[0;36m, line \u001b[0;32m29\u001b[0m\n\u001b[0;31m    return points\u001b[0m\n\u001b[0m    ^\u001b[0m\n\u001b[0;31mIndentationError\u001b[0m\u001b[0;31m:\u001b[0m unindent does not match any outer indentation level\n"
     ]
    }
   ],
   "source": [
    "def construire_chapeau(extremites):\n",
    "        \"\"\" \n",
    "\n",
    "    points = np.empty((2,5))\n",
    "    # les extrmits\n",
    "    points[:,0] = extremites[:,0]\n",
    "    points[:,4] = extremites[:,1]\n",
    "    # points en fonction de leur position\n",
    "    points[:,1] = (extremites[:,0] + extremites[:,1])*1/3\n",
    "    points[:,3] = (extremites[:,0] + extremites[:,1])*2/3\n",
    "    \n",
    "    dist = (extremites[:,0] + extremites[:,1])*1/2\n",
    "    \n",
    "    tx = np.sqrt(dist[0]**2 + dist[1] ** 2)\n",
    "    ty = np.sqrt(dist[0]**2 + dist[1] ** 2)\n",
    "    \n",
    "    temp = (extremites[:,0] + extremites[:,1])*0.5\n",
    "    print(temp)\n",
    "    points[0,2] = dist [0] + dist[1]*ty\n",
    "    points[1,2] = dist [1] + dist[0]*tx\n",
    "    dist = (extremites[:,0] + extremites[:,1])*1/2\n",
    "\n",
    "    vect = (dist[0] - dist[0])\n",
    "    print(vect)\n",
    "    points[0,2] = -vect [1] \n",
    "    points[1,2] = vect [0] \n",
    "    \"\"\" \n",
    "    \n",
    "    return points"
   ]
  },
  {
   "cell_type": "code",
   "execution_count": 6,
   "metadata": {},
   "outputs": [],
   "source": [
    "def construire_chapeau(extremites):\n",
    "    b=np.array([\n",
    "        2*extremites[0][0]/3+extremites[0][1]/3,\n",
    "        2*extremites[1][0]/3+extremites[1][1]/3\n",
    "    ])\n",
    "    d=np.array([\n",
    "        extremites[0][0]/3+2*extremites[0][1]/3,\n",
    "        extremites[1][0]/3+2*extremites[1][1]/3\n",
    "    ])\n",
    "    milieu=np.array([\n",
    "        (extremites[0][0]+extremites[0][1])/2,\n",
    "        (extremites[1][0]+extremites[1][1])/2\n",
    "    ])\n",
    "    const = (1/(3**2)+1/(6**2))**0.5\n",
    "    cx=0.5*(extremites[0][0]+extremites[0][1])+const*(extremites[1][0]-extremites[1][1])\n",
    "    cy=0.5*(extremites[1][0]+extremites[1][1])-const*(extremites[0][0]-extremites[0][1])\n",
    "    c=np.array([cx,cy])\n",
    "    chapeau=np.ndarray(shape=(2,5))\n",
    "    chapeau[0][0]=extremites[0][0]\n",
    "    chapeau[0][1]=b[0]\n",
    "    chapeau[0][2]=c[0]\n",
    "    chapeau[0][3]=d[0]\n",
    "    chapeau[0][4]=extremites[0][1]\n",
    "    chapeau[1][0]=extremites[1][0]\n",
    "    chapeau[1][1]=b[1]\n",
    "    chapeau[1][2]=c[1]\n",
    "    chapeau[1][3]=d[1]\n",
    "    chapeau[1][4]=extremites[1][1]\n",
    "    return chapeau"
   ]
  },
  {
   "cell_type": "markdown",
   "metadata": {},
   "source": [
    "Tracez la première itération pour les deux données initiales"
   ]
  },
  {
   "cell_type": "code",
   "execution_count": 7,
   "metadata": {},
   "outputs": [
    {
     "name": "stdout",
     "output_type": "stream",
     "text": [
      "[[0.         0.33333333 0.127322   0.66666667 1.        ]\n",
      " [0.         0.33333333 0.872678   0.66666667 1.        ]]\n"
     ]
    },
    {
     "data": {
      "text/plain": [
       "[<matplotlib.lines.Line2D at 0x7fa0139b7358>]"
      ]
     },
     "execution_count": 7,
     "metadata": {},
     "output_type": "execute_result"
    },
    {
     "data": {
      "image/png": "[encoded data removed]",
      "text/plain": [
       "<Figure size 720x720 with 1 Axes>"
      ]
     },
     "metadata": {
      "needs_background": "light"
     },
     "output_type": "display_data"
    }
   ],
   "source": [
    "line = np.empty((2,2))\n",
    "line[:,0] = np.array([0,0])    \n",
    "line[:,1] = np.array([1,1])\n",
    "res = construire_chapeau(line)\n",
    "print(res)\n",
    "fig, ax = plt.subplots(1,1,figsize=(10,10))\n",
    "ax.axis(\"equal\")\n",
    "ax.plot(res[0], res[1])"
   ]
  },
  {
   "cell_type": "code",
   "execution_count": 8,
   "metadata": {},
   "outputs": [
    {
     "name": "stdout",
     "output_type": "stream",
     "text": [
      "[[0.         0.33333333 0.127322   0.66666667 1.        ]\n",
      " [0.         0.33333333 0.872678   0.66666667 1.        ]]\n"
     ]
    },
    {
     "data": {
      "text/plain": [
       "[<matplotlib.lines.Line2D at 0x7fa013bb2a20>]"
      ]
     },
     "execution_count": 8,
     "metadata": {},
     "output_type": "execute_result"
    },
    {
     "data": {
      "image/png": "[encoded data removed]",
      "text/plain": [
       "<Figure size 720x720 with 1 Axes>"
      ]
     },
     "metadata": {
      "needs_background": "light"
     },
     "output_type": "display_data"
    }
   ],
   "source": [
    "line = np.empty((2,2))\n",
    "line[:,0] = np.array([0,0])    \n",
    "line[:,1] = np.array([1,1])\n",
    "res = construire_chapeau(line)\n",
    "print(res)\n",
    "fig, ax = plt.subplots(1,1,figsize=(10,10))\n",
    "ax.axis(\"equal\")\n",
    "ax.plot(res[0], res[1])\n",
    "\n",
    "line1 = np.empty((2,2))\n",
    "line1[:,0] = np.array(res[:,0])    \n",
    "line1[:,1] = np.array(res[:,1])\n",
    "res = construire_chapeau(line1)\n",
    "\n",
    "\n",
    "ax.plot(res[0], res[1])\n"
   ]
  },
  {
   "cell_type": "markdown",
   "metadata": {},
   "source": [
    "Proposez une fonction qui prend en argument une ligne brisée et un entier n et qui retourne la ligne obtenue après n itérations. Cette fonction pourra être récursive"
   ]
  },
  {
   "cell_type": "code",
   "execution_count": 24,
   "metadata": {},
   "outputs": [],
   "source": [
    "def rec(sommets, n,ax):\n",
    "    precedent = sommets.copy()\n",
    "    taille = precedent.shape[1] - 1\n",
    "    extremites = np.empty((2,4*taille+1))\n",
    "    for i in range(taille):\n",
    "        extremites[:,4*i:4*i+5] = construire_chapeau(precedent[:,i:i+2])\n",
    "    if(n>0):\n",
    "        extremites = von_koch(extremites,n-1)\n",
    "    return extremites\n"
   ]
  },
  {
   "cell_type": "code",
   "execution_count": 25,
   "metadata": {},
   "outputs": [
    {
     "name": "stdout",
     "output_type": "stream",
     "text": [
      "[[0.         0.33333333 0.127322   0.66666667 1.        ]\n",
      " [0.         0.33333333 0.872678   0.66666667 1.        ]]\n",
      "[[0.         0.33333333]\n",
      " [0.         0.33333333]]\n"
     ]
    }
   ],
   "source": [
    "line = np.empty((2,2))\n",
    "line[:,0] = np.array([0,0])    \n",
    "line[:,1] = np.array([1,1])\n",
    "line = construire_chapeau(line)\n",
    "print(line)\n",
    "line1 = np.empty((2,2))\n",
    "line1[:,0] = np.array(line[:,0])    \n",
    "line1[:,1] = np.array(line[:,1])\n",
    "\n",
    "print(line1)"
   ]
  },
  {
   "cell_type": "markdown",
   "metadata": {},
   "source": [
    "Tracez les flocons pour n allant de 0 à 4."
   ]
  },
  {
   "cell_type": "code",
   "execution_count": 26,
   "metadata": {
    "scrolled": false
   },
   "outputs": [
    {
     "data": {
      "text/plain": [
       "array([[0.00000000e+00, 1.37174211e-03, 5.23958863e-04, ...,\n",
       "        9.96408733e-01, 9.98628258e-01, 1.00000000e+00],\n",
       "       [0.00000000e+00, 1.37174211e-03, 3.59126747e-03, ...,\n",
       "        9.99476041e-01, 9.98628258e-01, 1.00000000e+00]])"
      ]
     },
     "execution_count": 26,
     "metadata": {},
     "output_type": "execute_result"
    },
    {
     "data": {
      "image/png": "[encoded data removed]",
      "text/plain": [
       "<Figure size 720x720 with 1 Axes>"
      ]
     },
     "metadata": {
      "needs_background": "light"
     },
     "output_type": "display_data"
    }
   ],
   "source": [
    "line = np.empty((2,2))\n",
    "line[:,0] = np.array([0,0])    \n",
    "line[:,1] = np.array([1,1])\n",
    "fig, ax = plt.subplots(1,1,figsize=(10,10))\n",
    "rec(line, 5, ax)"
   ]
  },
  {
   "cell_type": "code",
   "execution_count": 27,
   "metadata": {},
   "outputs": [],
   "source": [
    "def von_koch(sommets, n):\n",
    "    precedent = sommets.copy()\n",
    "    taille = precedent.shape[1] - 1\n",
    "    extremites = np.empty((2,4*taille+1))\n",
    "    \n",
    "    for i in range(taille):\n",
    "        extremites[:,4*i:4*i+5] = construire_chapeau(precedent[:,i:i+2])\n",
    "    if(n>0):\n",
    "        extremites = von_koch(extremites,n-1)\n",
    "    return extremites"
   ]
  },
  {
   "cell_type": "code",
   "execution_count": null,
   "metadata": {},
   "outputs": [],
   "source": []
  },
  {
   "cell_type": "code",
   "execution_count": 28,
   "metadata": {},
   "outputs": [
    {
     "ename": "NameError",
     "evalue": "name 'rotation' is not defined",
     "output_type": "error",
     "traceback": [
      "\u001b[0;31m---------------------------------------------------------------------------\u001b[0m",
      "\u001b[0;31mNameError\u001b[0m                                 Traceback (most recent call last)",
      "\u001b[0;32m<ipython-input-28-9b20b15bcd77>\u001b[0m in \u001b[0;36m<module>\u001b[0;34m\u001b[0m\n\u001b[1;32m      1\u001b[0m \u001b[0msommets\u001b[0m \u001b[0;34m=\u001b[0m \u001b[0mnp\u001b[0m\u001b[0;34m.\u001b[0m\u001b[0mzeros\u001b[0m\u001b[0;34m(\u001b[0m\u001b[0;34m(\u001b[0m\u001b[0;36m2\u001b[0m\u001b[0;34m,\u001b[0m\u001b[0;36m4\u001b[0m\u001b[0;34m)\u001b[0m\u001b[0;34m)\u001b[0m\u001b[0;34m\u001b[0m\u001b[0;34m\u001b[0m\u001b[0m\n\u001b[1;32m      2\u001b[0m \u001b[0msommets\u001b[0m\u001b[0;34m[\u001b[0m\u001b[0;36m0\u001b[0m\u001b[0;34m,\u001b[0m\u001b[0;36m0\u001b[0m\u001b[0;34m]\u001b[0m \u001b[0;34m=\u001b[0m \u001b[0;36m1\u001b[0m\u001b[0;34m\u001b[0m\u001b[0;34m\u001b[0m\u001b[0m\n\u001b[0;32m----> 3\u001b[0;31m \u001b[0msommets\u001b[0m\u001b[0;34m[\u001b[0m\u001b[0;34m:\u001b[0m\u001b[0;34m,\u001b[0m\u001b[0;36m2\u001b[0m\u001b[0;34m]\u001b[0m \u001b[0;34m=\u001b[0m \u001b[0mrotation\u001b[0m\u001b[0;34m(\u001b[0m\u001b[0msommets\u001b[0m\u001b[0;34m[\u001b[0m\u001b[0;34m:\u001b[0m\u001b[0;34m,\u001b[0m\u001b[0;36m0\u001b[0m\u001b[0;34m]\u001b[0m\u001b[0;34m)\u001b[0m\u001b[0;34m\u001b[0m\u001b[0;34m\u001b[0m\u001b[0m\n\u001b[0m\u001b[1;32m      4\u001b[0m \u001b[0msommets\u001b[0m\u001b[0;34m[\u001b[0m\u001b[0;34m:\u001b[0m\u001b[0;34m,\u001b[0m\u001b[0;36m3\u001b[0m\u001b[0;34m]\u001b[0m \u001b[0;34m=\u001b[0m \u001b[0msommets\u001b[0m\u001b[0;34m[\u001b[0m\u001b[0;34m:\u001b[0m\u001b[0;34m,\u001b[0m\u001b[0;36m0\u001b[0m\u001b[0;34m]\u001b[0m\u001b[0;34m\u001b[0m\u001b[0;34m\u001b[0m\u001b[0m\n\u001b[1;32m      5\u001b[0m \u001b[0mfig\u001b[0m\u001b[0;34m,\u001b[0m\u001b[0max\u001b[0m \u001b[0;34m=\u001b[0m \u001b[0mplt\u001b[0m\u001b[0;34m.\u001b[0m\u001b[0msubplots\u001b[0m\u001b[0;34m(\u001b[0m\u001b[0;36m1\u001b[0m\u001b[0;34m,\u001b[0m\u001b[0;36m1\u001b[0m\u001b[0;34m,\u001b[0m \u001b[0mfigsize\u001b[0m \u001b[0;34m=\u001b[0m \u001b[0;34m(\u001b[0m\u001b[0;36m1\u001b[0m\u001b[0;34m,\u001b[0m\u001b[0;36m1\u001b[0m\u001b[0;34m)\u001b[0m\u001b[0;34m)\u001b[0m\u001b[0;34m\u001b[0m\u001b[0;34m\u001b[0m\u001b[0m\n",
      "\u001b[0;31mNameError\u001b[0m: name 'rotation' is not defined"
     ]
    }
   ],
   "source": [
    "sommets = np.zeros((2,4))\n",
    "sommets[0,0] = 1\n",
    "sommets[:,2] = rotation(sommets[:,0])\n",
    "sommets[:,3] = sommets[:,0]\n",
    "fig,ax = plt.subplots(1,1, figsize = (1,1))\n",
    "ax.plot(sommets[0,:], sommets[1,:], \"o r\")\n",
    "\n",
    "result = von_koch(sommets, 1)\n",
    "result = von_koch(sommets, 7)\n",
    "\n",
    "fig, ax = plt.subplots(1,1,figsize = (20,22))\n",
    "ax.plot(result[0,:], result[1,:], \"-r\")"
   ]
  },
  {
   "cell_type": "code",
   "execution_count": null,
   "metadata": {},
   "outputs": [],
   "source": []
  },
  {
   "cell_type": "code",
   "execution_count": null,
   "metadata": {},
   "outputs": [],
   "source": []
  }
 ],
 "metadata": {
  "kernelspec": {
   "display_name": "Python 3",
   "language": "python",
   "name": "python3"
  },
  "language_info": {
   "codemirror_mode": {
    "name": "ipython",
    "version": 3
   },
   "file_extension": ".py",
   "mimetype": "text/x-python",
   "name": "python",
   "nbconvert_exporter": "python",
   "pygments_lexer": "ipython3",
   "version": "3.7.3"
  }
 },
 "nbformat": 4,
 "nbformat_minor": 2
}
