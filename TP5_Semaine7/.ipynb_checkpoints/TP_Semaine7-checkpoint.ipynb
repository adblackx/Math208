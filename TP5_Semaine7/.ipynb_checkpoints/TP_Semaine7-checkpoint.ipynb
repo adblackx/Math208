{
 "cells": [
  {
   "cell_type": "markdown",
   "metadata": {},
   "source": [
    "# Feuille de TP 5 $\\quad$ Résoudre de façon approchée une EDO"
   ]
  },
  {
   "cell_type": "markdown",
   "metadata": {},
   "source": [
    "\n",
    "**Commencez par créer un dossier TP5 destiné à accueillir tous les scripts de ce TP.\n",
    "Pensez à tester tous vos programmes un par un.**\n"
   ]
  },
  {
   "cell_type": "markdown",
   "metadata": {},
   "source": [
    "## Exercice 5.1 :"
   ]
  },
  {
   "cell_type": "markdown",
   "metadata": {},
   "source": [
    "Créer un module **mes_fonctions** et y coder la fonction $idt(t, x)$ qui correspond à la fonction\n",
    "mathématique $(t, x) \\rightarrow t.$\n",
    "\n",
    "\n",
    "Par la suite on importera ce module sous l’alias $f$ (import mes_fonctions as $f$)."
   ]
  },
  {
   "cell_type": "code",
   "execution_count": 1,
   "metadata": {},
   "outputs": [
    {
     "name": "stdout",
     "output_type": "stream",
     "text": [
      "Overwriting mes_fonctions.py\n"
     ]
    }
   ],
   "source": [
    "%%writefile mes_fonctions.py\n",
    "import numpy as np\n",
    "\n",
    "def idt(t, x):\n",
    "    \"\"\"(𝑡,𝑥)→𝑡.\"\"\"\n",
    "    return t"
   ]
  },
  {
   "cell_type": "code",
   "execution_count": 24,
   "metadata": {},
   "outputs": [
    {
     "data": {
      "text/plain": [
       "1"
      ]
     },
     "execution_count": 24,
     "metadata": {},
     "output_type": "execute_result"
    }
   ],
   "source": [
    "import mes_fonctions as f\n",
    "f.idt(1,2)"
   ]
  },
  {
   "cell_type": "markdown",
   "metadata": {},
   "source": [
    "## 1 Mon premier schéma : méthode d’Euler explicite"
   ]
  },
  {
   "cell_type": "markdown",
   "metadata": {},
   "source": [
    "Pour $\\; \\; f : (t, x) \\in \\mathbb{R^{2}} \\rightarrow \\mathbb{R}$ de classe $C^{1} \\;$ on considère le problème de Cauchy suivant:\n",
    "$\n",
    " \\left\\{\n",
    "    \\begin{array}{ll}\n",
    "        y^{\\prime}=f(t,y)  \\\\\n",
    "        y(t_{0})=y_{0}\n",
    "    \\end{array}\n",
    "\\right.\n",
    "$\n",
    "$\\quad \\quad (1)$\n",
    "\n",
    "On admet que le cadre mathématique est « bon » : en particulier, la solution existe et elle est\n",
    "unique ; cela est vrai pour tout couple $(t_{0}, y_{0})$. \n",
    "\n",
    "On notera $\\; y : t \\rightarrow y(t)\\; $ cette solution.\n",
    "\n",
    "Nous cherchons à approcher la solution à l’aide de l’ordinateur sur un intervalle de temps $[0 ,T]$.\n",
    "**On parle de résolution numérique.**\n",
    "\n",
    "Au lieu de calculer cette solution en tout temps, nous allons chercher une approximation de cette\n",
    "solution à des temps particuliers qui découpent $[0,T]$ en petits intervalles où la solution varie peu.\n",
    "Cela s’appelle la discrétisation. La façon la plus simple de procéder est de choisir $N$ grand puis\n",
    "d’approcher la solution aux instants $\\;t_{n} = t_{0} + nh\\;$ où $\\;h = \\frac{T}{N} \\;$et $\\;n = 1$ à$\\; N$. Les mathématiques\n",
    "appliquées fournissent alors des relations de récurrence, appelées schémas, permettant de calculer\n",
    "$\\;u_{n+1}\\;$ à partir de $\\;u_{n}$. Comme on part de $\\;u_{0} = y_{0}\\;$ il reste à calculer ces termes un par un jusqu’à\n",
    "$\\;n = N$."
   ]
  },
  {
   "cell_type": "markdown",
   "metadata": {},
   "source": [
    "Le schéma d’Euler explicite est le schéma le plus simple pour discrétiser une **EDO**. \n",
    "\n",
    "Nous admettrons qu’il « approche » bien la solution exacte. Il est définit par:\n",
    "$\n",
    " \\left\\{\n",
    "    \\begin{array}{ll}\n",
    "        x_{0}=y_{0}  \\\\\n",
    "        x_{n+1}=x_{n}+h\\,f(t_{n},x_{n})\n",
    "    \\end{array}\n",
    "\\right.\n",
    "$\n",
    "$\\quad \\quad (2)$"
   ]
  },
  {
   "cell_type": "markdown",
   "metadata": {},
   "source": [
    "## Exercice 5.2 : Un premier test"
   ]
  },
  {
   "cell_type": "markdown",
   "metadata": {},
   "source": [
    "Commençons par tester ce schéma pour $f : (t, x) \\rightarrow t $  (la fonction $idt$ du script mes_fonctions.py).\n",
    "\n",
    "**1.** Rappeler la solution analytique de l’équation pour $(t_{0}, y_{0}) = (0, y_{0})$.\n",
    "\n"
   ]
  },
  {
   "cell_type": "markdown",
   "metadata": {},
   "source": [
    "t0 = 0 et y0 = y0 # PAS SUR"
   ]
  },
  {
   "cell_type": "markdown",
   "metadata": {},
   "source": [
    "Créer un script python **solve_EDO.py** dans le même dossier.\n",
    "\n",
    "**2.** Dans le fichier **solve_EDO.py**, écrire une fonction python **StepEuler** qui prend en argument trois réels $t, x, h$ et une fonction python $f$ à deux variables réelles et qui renvoie l’approximation de la solution à l’aide du schéma à l’instant $t+h : StepEuler(t, x, h, f) = x+hf(t, x).$"
   ]
  },
  {
   "cell_type": "code",
   "execution_count": 6,
   "metadata": {},
   "outputs": [
    {
     "name": "stdout",
     "output_type": "stream",
     "text": [
      "Overwriting solve_EDO.py\n"
     ]
    }
   ],
   "source": [
    "%%writefile solve_EDO.py\n",
    "import numpy as np\n",
    "\n",
    "def StepEuler(t, x, h, f):\n",
    "    \"\"\"𝑡+ℎ:𝑆𝑡𝑒𝑝𝐸𝑢𝑙𝑒𝑟(𝑡,𝑥,ℎ,𝑓)=𝑥+ℎ𝑓(𝑡,𝑥).\"\"\"\n",
    "    #oui bien\n",
    "    return x + h*f(t,x)\n",
    "\n",
    "def MyEuler(t0,x0, T, N, f):\n",
    "    \"\"\"Fonction \"\"\"\n",
    "    h = T/N\n",
    "    #print(h)\n",
    "    time = np.empty(N+1)\n",
    "    x = np.empty(N+1)\n",
    "    x[0] = x0\n",
    "    time[0] = t0\n",
    "    for n in np.arange(N):\n",
    "        time[n+1] = t0 + (n+1)*h\n",
    "        x[n+1] = StepEuler(time[n],x[n],h,f)\n",
    "    return time , x"
   ]
  },
  {
   "cell_type": "markdown",
   "metadata": {},
   "source": [
    "**3.** Dans le même fichier, ajouter une fonction **MyEuler** qui prend en argument trois réels\n",
    "$t_{0}, x_{0}, T$ un entier $N$ et une fonction python $f$ à deux variables réelles et qui:\n",
    "\n",
    "\n",
    "a) Calcule $h = \\frac{T}{N}$,\n",
    "\n",
    "b) Crée deux tableaux $\\;$ time, **$x$** de taille $(N + 1)$ (et de dimension 1),\n",
    "\n",
    "c) Calcule chacun des instants $t_{n}$ et des approximations de la solution $x_{n}$ à l’aide du schéma d’Euler explicite et les stocke dans time$[n]$ et $x[n]$,\n",
    "\n",
    "d) Renvoie time, $x$.\n",
    "\n",
    "**Indication:** Après avoir implémenté **MyEuler**, on obtiendra les deux tableaux time et x par la\n",
    "commande:                        \n",
    "\n",
    "                                     time , x =MyEuler(t0 ,x0 ,T,N,f)   "
   ]
  },
  {
   "cell_type": "markdown",
   "metadata": {},
   "source": [
    "**4.** Nous allons tester le tout.\n",
    "\n",
    "**a)** Créer un script **exo2.py** commençant par:                  "
   ]
  },
  {
   "cell_type": "code",
   "execution_count": 1,
   "metadata": {},
   "outputs": [
    {
     "name": "stdout",
     "output_type": "stream",
     "text": [
      "0.2\n"
     ]
    }
   ],
   "source": [
    "#### Complétez votre script\n",
    "\n",
    "# -* - coding : utf -8 -* -\n",
    "import numpy as np\n",
    "import matplotlib . pyplot as plt\n",
    "import mes_fonctions as f\n",
    "import solve_EDO as edo\n",
    "# Choix de la plage de valeur en temps\n",
    "t0 = 0.\n",
    "x0 = 0.\n",
    "T = 10.\n",
    "N = 50 # Choix du nombre de points\n",
    "\n",
    "time , x = edo.MyEuler(t0 ,x0 ,T,N,f.idt)   "
   ]
  },
  {
   "cell_type": "code",
   "execution_count": 2,
   "metadata": {},
   "outputs": [
    {
     "data": {
      "text/plain": [
       "[<matplotlib.lines.Line2D at 0x7f70cb6189e8>]"
      ]
     },
     "execution_count": 2,
     "metadata": {},
     "output_type": "execute_result"
    },
    {
     "data": {
      "image/png": "[encoded data removed]",
      "text/plain": [
       "<Figure size 432x288 with 1 Axes>"
      ]
     },
     "metadata": {
      "needs_background": "light"
     },
     "output_type": "display_data"
    }
   ],
   "source": [
    "import matplotlib.pyplot as plt\n",
    "fig, ax = plt.subplots()\n",
    "ax.plot(time, x,label=\"ma courbe\")"
   ]
  },
  {
   "cell_type": "markdown",
   "metadata": {},
   "source": [
    "**b)** Compléter le fichier pour tester **edo.MyEuler** avec  **f.idt** pour $\\;N = 50.$ Tracer la solution\n",
    "approchée (fournie par **MyEuler**) avec **la solution exacte**, pour pouvoir comparer les deux fonctions.\n"
   ]
  },
  {
   "cell_type": "markdown",
   "metadata": {},
   "source": [
    "**c)** Tester pour d’autres valeurs de $N : 5, 10, 50, 100, 200.$ On pourra aussi tracer l’écart\n",
    "entre la solution exacte et la solution numérique en $t = t_{0} + T = 10$ en fonction de $N$.\n",
    "\n",
    "**Indication:** On pourra tracer la solution numérique et la légender à l’aide de la commande:\n",
    "\n",
    "                           plt. plot (time , x, label = 'sol.␣num.')\n",
    "                           \n",
    "L’argument **label** permet de nommer les courbes. Pour afficher la légende, il faut ajouter, juste\n",
    "avant la commande **plt.show(),** la commande **plt.legend()**. \n",
    "\n",
    "Il est important d’avoir tracé toutes\n",
    "les courbes avant (tous les appels à **plt.plot** doivent avoir été faits avant).\n",
    "                           \n"
   ]
  },
  {
   "cell_type": "code",
   "execution_count": 6,
   "metadata": {},
   "outputs": [
    {
     "name": "stdout",
     "output_type": "stream",
     "text": [
      "2.0\n",
      "1.0\n",
      "0.5\n",
      "0.1\n",
      "0.05\n"
     ]
    },
    {
     "data": {
      "text/plain": [
       "[<matplotlib.lines.Line2D at 0x7f70cb124ac8>]"
      ]
     },
     "execution_count": 6,
     "metadata": {},
     "output_type": "execute_result"
    },
    {
     "data": {
      "image/png": "[encoded data removed]",
      "text/plain": [
       "<Figure size 432x288 with 1 Axes>"
      ]
     },
     "metadata": {
      "needs_background": "light"
     },
     "output_type": "display_data"
    }
   ],
   "source": [
    "import matplotlib.pyplot as plt\n",
    "fig, ax = plt.subplots()\n",
    "time , x = edo.MyEuler(t0 ,x0 ,T,5,f.idt)   \n",
    "ax.plot(time, x,label=\" N = 5\")\n",
    "time , x = edo.MyEuler(t0 ,x0 ,T,10,f.idt)  \n",
    "ax.plot(time, x,label=\" N = 10\")\n",
    "time , x = edo.MyEuler(t0 ,x0 ,T,20,f.idt)  \n",
    "ax.plot(time, x,label=\" N = 50\")\n",
    "time , x = edo.MyEuler(t0 ,x0 ,T,100,f.idt)  \n",
    "ax.plot(time, x,label=\" N = 100\")\n",
    "time , x = edo.MyEuler(t0 ,x0 ,T,200,f.idt)  \n",
    "ax.plot(time, x,label=\" N = 200\")"
   ]
  },
  {
   "cell_type": "markdown",
   "metadata": {},
   "source": [
    "## 2 D’autres fonctions plus difficiles"
   ]
  },
  {
   "cell_type": "markdown",
   "metadata": {},
   "source": [
    "### Exercice 5.3 : Quelques fonctions"
   ]
  },
  {
   "cell_type": "markdown",
   "metadata": {},
   "source": [
    "Les fonctions suivantes sont à ajouter au fichier **mes_fonctions.py** :\n",
    "1. Ecrire une fonction python **idx** qui prend en argument deux réels $t, x$ et renvoie $x$.\n",
    "2. Ecrire une fonction python **myExp** qui prend en argument un réel $t$ et renvoie $e^{t}$.\n",
    "3. Ecrire une fonction python **myF** qui prend en argument deux réels $t, x$ et renvoie $x + cos(t)$.\n",
    "4. Tester ces fonctions.\n"
   ]
  },
  {
   "cell_type": "markdown",
   "metadata": {},
   "source": [
    "### Exercice 5.4 : Approximation de $\\;e$\n"
   ]
  },
  {
   "cell_type": "markdown",
   "metadata": {},
   "source": [
    "On considère l’équation $\\; x^{\\prime}(t) = x(t)\\;$ avec la condition $x(0) = 1$\n",
    "\n",
    "**1.** En réutilisant la fonction python MyEuler et en s’inspirant du script précédent, écrire\n",
    "un script python **exo4.py** qui calcule une approximation de $e = x(1)$ en intégrant cette\n",
    "équation avec la méthode d’Euler pour un pas $\\;h = \\frac{1}{N},\\; N \\in \\mathbb{N}^{*}$."
   ]
  },
  {
   "cell_type": "code",
   "execution_count": null,
   "metadata": {},
   "outputs": [],
   "source": [
    "# votre code"
   ]
  },
  {
   "cell_type": "markdown",
   "metadata": {},
   "source": [
    "**2.** Tester pour différentes valeurs de $N$ et tracer l’erreur en fonction de $h$.\n"
   ]
  },
  {
   "cell_type": "code",
   "execution_count": null,
   "metadata": {},
   "outputs": [],
   "source": [
    "# votre code"
   ]
  },
  {
   "cell_type": "markdown",
   "metadata": {},
   "source": [
    "## Exercice 5.5 : Un cas instable"
   ]
  },
  {
   "cell_type": "markdown",
   "metadata": {},
   "source": [
    "On considère le problème de Cauchy pour $\\;f(t, x) = x + cos(t)\\;$ et $\\;(t_{0}, x_{0}) = (0, −\\frac{1}{2}).$\n",
    "\n",
    "**1.** Trouver explicitement la solution. (Essayer $\\;x(t) = A \\; \\cos(t) + B \\; \\sin(t).$)"
   ]
  },
  {
   "cell_type": "markdown",
   "metadata": {},
   "source": [
    "                                               ........"
   ]
  },
  {
   "cell_type": "markdown",
   "metadata": {},
   "source": [
    "**2.** Construire un script donnant la solution calculée par le schéma d’Euler sur l’intervalle $[0, 10]$\n",
    "avec un pas $\\;h = \\frac{10}{N},\\; N \\in \\mathbb{N}^{*}$."
   ]
  },
  {
   "cell_type": "code",
   "execution_count": null,
   "metadata": {},
   "outputs": [],
   "source": [
    "# votre code"
   ]
  },
  {
   "cell_type": "markdown",
   "metadata": {},
   "source": [
    "**3.** Regardez plusieurs valeurs de $N \\;(N = 50, 100, 500, . . .)$ et comparez les différentes approximations\n",
    "obtenues avec la solution exacte (tracez les approximations obtenues et la solution\n",
    "exacte)."
   ]
  },
  {
   "cell_type": "code",
   "execution_count": null,
   "metadata": {},
   "outputs": [],
   "source": [
    "# votre code"
   ]
  }
 ],
 "metadata": {
  "kernelspec": {
   "display_name": "Python 3",
   "language": "python",
   "name": "python3"
  },
  "language_info": {
   "codemirror_mode": {
    "name": "ipython",
    "version": 3
   },
   "file_extension": ".py",
   "mimetype": "text/x-python",
   "name": "python",
   "nbconvert_exporter": "python",
   "pygments_lexer": "ipython3",
   "version": "3.7.3"
  }
 },
 "nbformat": 4,
 "nbformat_minor": 2
}
