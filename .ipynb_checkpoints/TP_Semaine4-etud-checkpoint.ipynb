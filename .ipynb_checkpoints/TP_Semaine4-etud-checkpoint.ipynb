{
 "cells": [
  {
   "cell_type": "markdown",
   "metadata": {
    "Collapsed": "false"
   },
   "source": [
    "# Feuille de TP3 - Partie A : Manipulation de fonctions\n"
   ]
  },
  {
   "cell_type": "code",
   "execution_count": 1,
   "metadata": {
    "Collapsed": "false"
   },
   "outputs": [],
   "source": [
    "# Import des modules\n",
    "import numpy as np"
   ]
  },
  {
   "cell_type": "markdown",
   "metadata": {
    "Collapsed": "false"
   },
   "source": [
    "**Attention :**\n",
    "+ On rappelle que les noms de fonctions **ne doivent pas commencer par &laquo;_&raquo; ni contenir de caractères accentués** (plus précisément, les fonctions qui commencent par &laquo;_&raquo; ne peuvent pas être importées dans un autre module).\n",
    "+ Les tableaux sont typées. Lorsque vous modifiez un élément d'une matrice, si les types sont différents, une conversion a lieu qui peut parfois engendrer des bugs... Voici un exemple pour illustrer cela."
   ]
  },
  {
   "cell_type": "code",
   "execution_count": 2,
   "metadata": {
    "Collapsed": "false"
   },
   "outputs": [
    {
     "name": "stdout",
     "output_type": "stream",
     "text": [
      "[[1 2]\n",
      " [3 4]]\n",
      "[[1 2]\n",
      " [3 4]]\n",
      "<class 'numpy.ndarray'> <class 'numpy.int64'>\n",
      "[[1. 2.]\n",
      " [3. 4.]]\n",
      "[[1.5 2. ]\n",
      " [3.  4. ]]\n",
      "<class 'numpy.ndarray'> <class 'numpy.float64'>\n",
      "[[1. 2.]\n",
      " [3. 4.]]\n",
      "[[1.5 2. ]\n",
      " [3.  4. ]]\n",
      "<class 'numpy.ndarray'> <class 'numpy.float64'>\n"
     ]
    }
   ],
   "source": [
    "A = np.array([[1,2], [3,4]])\n",
    "print(A)\n",
    "A[0,0] = 1.5 # 1.5 va être converti en entier !\n",
    "print(A)\n",
    "print(type(A), type(A[0,0]))\n",
    "A = np.array([[1.,2], [3,4]])\n",
    "\n",
    "print(A)\n",
    "A[0,0] = 1.5 # Pas de conversion\n",
    "print(A)\n",
    "print(type(A), type(A[0,0]))\n",
    "A = np.array([[1,2], [3,4]], dtype=float)\n",
    "print(A)\n",
    "A[0,0] = 1.5\n",
    "print(A)\n",
    "print(type(A), type(A[0,0]))"
   ]
  },
  {
   "cell_type": "markdown",
   "metadata": {
    "Collapsed": "false"
   },
   "source": [
    "## Exercice 1 : Cryptographie basique : code de César (ou *Caesar cypher*)\n",
    "\n",
    "Le principe de ce code est de \"décaler\" les lettres. Par exemple, si la clef choisie est 1, la lettre A sera remplacée par B, la lettre B par C, etc. Nous nous proposons ici de fabriquer une fonction de cryptage et de décryptage pour la clef 13.\n",
    "\n",
    "#### a. <font color=red>Importer</font> le module `codecs` et tester les commandes `print(codecs.encode(\"abc\", \"rot+13\"))` et `print(codecs.encode(\"abc\", \"rot-13\"))` "
   ]
  },
  {
   "cell_type": "code",
   "execution_count": 4,
   "metadata": {
    "Collapsed": "false",
    "jupyter": {
     "outputs_hidden": true
    }
   },
   "outputs": [
    {
     "ename": "SyntaxError",
     "evalue": "invalid syntax (<ipython-input-4-dbcf1b3b2b6c>, line 2)",
     "output_type": "error",
     "traceback": [
      "\u001b[0;36m  File \u001b[0;32m\"<ipython-input-4-dbcf1b3b2b6c>\"\u001b[0;36m, line \u001b[0;32m2\u001b[0m\n\u001b[0;31m    imports codecs\u001b[0m\n\u001b[0m                 ^\u001b[0m\n\u001b[0;31mSyntaxError\u001b[0m\u001b[0;31m:\u001b[0m invalid syntax\n"
     ]
    }
   ],
   "source": [
    "# Mettre votre code ici\n",
    "imports codecs\n",
    "print(codecs.encode(\"abc\", \"rot+13\"))"
   ]
  },
  {
   "cell_type": "markdown",
   "metadata": {
    "Collapsed": "false"
   },
   "source": [
    "Comparer avec les 14, 15 et 16<sup>ème</sup> lettres de l'alphabet. \n",
    "#### b. Proposer une fonction `crypter()` qui demande à l'utilisateur de saisir une chaîne de caractères et affiche sa version codée."
   ]
  },
  {
   "cell_type": "code",
   "execution_count": null,
   "metadata": {
    "Collapsed": "false",
    "collapsed": true,
    "jupyter": {
     "outputs_hidden": true
    }
   },
   "outputs": [],
   "source": [
    "# Mettre votre fonction ici\n",
    "def crypter():\n",
    "    ''' Demande de saisir un message puis affice sa version cryptée. '''"
   ]
  },
  {
   "cell_type": "markdown",
   "metadata": {
    "Collapsed": "false"
   },
   "source": [
    "#### c. Ecrire une fonction `decrypter()` qui demande à l'utilisateur de saisir une chaîne de caractères encodée et affiche sa version décodée."
   ]
  },
  {
   "cell_type": "code",
   "execution_count": null,
   "metadata": {
    "Collapsed": "false",
    "collapsed": true,
    "jupyter": {
     "outputs_hidden": true
    }
   },
   "outputs": [],
   "source": []
  },
  {
   "cell_type": "markdown",
   "metadata": {
    "Collapsed": "false"
   },
   "source": [
    "#### d.Tester la fonction `crypter()` avec un message déjà crypté. Expliquer le résultat (indice : il y a 26 lettres dans l'alphabet).\n"
   ]
  },
  {
   "cell_type": "code",
   "execution_count": null,
   "metadata": {
    "Collapsed": "false",
    "collapsed": true,
    "jupyter": {
     "outputs_hidden": true
    }
   },
   "outputs": [],
   "source": []
  },
  {
   "cell_type": "markdown",
   "metadata": {
    "Collapsed": "false"
   },
   "source": [
    "## Exercice 2\n",
    "### Question 1\n",
    "A l'aide du module `numpy`, implémenter informatiquement la fonction $f : x \\mapsto \\sin(\\pi x)$."
   ]
  },
  {
   "cell_type": "code",
   "execution_count": null,
   "metadata": {
    "Collapsed": "false",
    "collapsed": true,
    "jupyter": {
     "outputs_hidden": true
    }
   },
   "outputs": [],
   "source": []
  },
  {
   "cell_type": "markdown",
   "metadata": {
    "Collapsed": "false"
   },
   "source": [
    "### Question 2\n",
    "Ecrire une fonction qui convertit une vitesse depuis des $km/h$ vers des miles par heure puis des noeuds. On rappelle que 1 mile = 1609 m et 1 noeud $= 0.514 m.s^{-1}$. "
   ]
  },
  {
   "cell_type": "code",
   "execution_count": null,
   "metadata": {
    "Collapsed": "false",
    "collapsed": true,
    "jupyter": {
     "outputs_hidden": true
    }
   },
   "outputs": [],
   "source": []
  },
  {
   "cell_type": "markdown",
   "metadata": {
    "Collapsed": "false"
   },
   "source": [
    "### Question 3\n",
    "\n",
    "   1. Ecrire une fonction qui prend en argument un tableau et renvoie un tableau de même taille rempli par le nombre à virgule flottante $3.0$ .\n",
    "   2. A l'aide de la fonction numpy `isscalar` écrire une fonction qui prend un argument `x` et renvoie $3.0$ si `x` est un scalaire et un tableau de $3.0$ s'il s'agit d'un tableau."
   ]
  },
  {
   "cell_type": "code",
   "execution_count": null,
   "metadata": {
    "Collapsed": "false",
    "collapsed": true,
    "jupyter": {
     "outputs_hidden": true
    }
   },
   "outputs": [],
   "source": []
  },
  {
   "cell_type": "markdown",
   "metadata": {
    "Collapsed": "false"
   },
   "source": [
    "### Question 4\n",
    "L'aire d'un triangle peut être calculée à partir des coordonnées de ses trois sommets par la formule :\n",
    "\\begin{equation*}\n",
    " \t\\mathcal{A} = \\frac{1}{2}\\big\\vert (x_1 - x_3)(y_2-y_1)  - (x_1-x_2)(y_3 - y_1) \\big \\vert\n",
    "\\end{equation*}\n",
    "Ecrire une fonction qui prend comme argument un tableau bi-dimensionnel dont chaque ligne est la coordonnée $(x,y)$ d'un sommet et renvoie son aire."
   ]
  },
  {
   "cell_type": "code",
   "execution_count": null,
   "metadata": {
    "Collapsed": "false",
    "collapsed": true,
    "jupyter": {
     "outputs_hidden": true
    }
   },
   "outputs": [],
   "source": []
  },
  {
   "cell_type": "markdown",
   "metadata": {
    "Collapsed": "false"
   },
   "source": [
    "### Question 5\n",
    "Ecrire une fonction qui prend en argument un tableau et remplace ces coefficients strictement positif par $1$ et ses coefficients strictement négatifs par $-1$."
   ]
  },
  {
   "cell_type": "code",
   "execution_count": null,
   "metadata": {
    "Collapsed": "false",
    "collapsed": true,
    "jupyter": {
     "outputs_hidden": true
    }
   },
   "outputs": [],
   "source": []
  },
  {
   "cell_type": "markdown",
   "metadata": {
    "Collapsed": "false"
   },
   "source": [
    "## Exercice : comparaison de nombre flottants\n",
    "\n",
    "Le module `scipy.linalg' contient des fonctions classiques d'algère linéaire. En particulier, il fournit les fonctions :\n",
    "   * `inv` qui prend en argument une tableau de dimension 2  correspondant à une matrice carrée et qui renvoie son inverse (s'il existe),\n",
    "   * `norm` qui prend un vecteur est renvoie sa norme 2 (par défaut) et qui fonctionne aussi pour des matrices (voir l'aide pour connaître les normes possibles),\n",
    "   * solve qui prend en argument un tableau de dimension 2 représentant une matrice $A$ et un tableau de dimension 1 représentant un vecteur $v$ et cherche à résoudre Ax=b.\n",
    "\n",
    "1. Importez le module `scipy.linalg` comme `slin`, définissez une matrice $A$ (si possible inversible) et un vecteur $u$. Calculez le déterminant de $A$, inversez la matrice, calculez $x=A^{-1}u$, puis calculez la norme de $Ax-u$. Comparer $Ax$ et $u$.\n",
    "2. Testez également la commande `allclose` pour comparer $Ax$ et $u$.\n",
    "3. Recommencez en résolvant le système linéaire par la commande `solve`."
   ]
  },
  {
   "cell_type": "code",
   "execution_count": null,
   "metadata": {
    "Collapsed": "false",
    "collapsed": true,
    "jupyter": {
     "outputs_hidden": true
    }
   },
   "outputs": [],
   "source": [
    "# Mettre ici votre code pour la question 1."
   ]
  },
  {
   "cell_type": "code",
   "execution_count": null,
   "metadata": {
    "Collapsed": "false",
    "collapsed": true,
    "jupyter": {
     "outputs_hidden": true
    }
   },
   "outputs": [],
   "source": [
    "# Mettre ici votre code pour la question 2."
   ]
  },
  {
   "cell_type": "code",
   "execution_count": 1,
   "metadata": {
    "Collapsed": "false"
   },
   "outputs": [],
   "source": [
    "# Mettre ici votre code pour la question 3."
   ]
  },
  {
   "cell_type": "markdown",
   "metadata": {
    "Collapsed": "false"
   },
   "source": [
    "# Exerice : itérer une fonction\n",
    "\n",
    "1 . Ecrire une fonction `itere` :\n",
    "\n",
    "* qui prend en argument une fonction `f` (représentant une fonction mathématiques $f : x \\in \\mathbb{R} \\mapsto f(x)$, un réel $x$ et un entier $n$,\n",
    "* qui renvoie l'itérée n-ième de $f$ en x (*ie* $f^n (x) = f\\circ\\big(f^{n-1}(x)\\big) = f\\circ f \\circ f \\dots f(x)$)\n",
    "\n",
    "2. Tester la fonction itere pour $f_a x \\mapsto 0.5*(\\frac{x}{a} - x)$ et $a=11$ puis $a=3$ et différentes valeurs de $n$."
   ]
  },
  {
   "cell_type": "code",
   "execution_count": 26,
   "metadata": {
    "Collapsed": "false"
   },
   "outputs": [
    {
     "name": "stdout",
     "output_type": "stream",
     "text": [
      "approximation de la racine de  11 après 1 itérées : 6.0\n",
      "approximation de la racine de  11 après 2 itérées : 3.9166666666666665\n",
      "approximation de la racine de  11 après 3 itérées : 3.3625886524822697\n",
      "approximation de la racine de  11 après 4 itérées : 3.316938934730457\n",
      "approximation de la racine de  11 après 5 itérées : 3.3166248052315686\n",
      "approximation de la racine de  11 après 6 itérées : 3.3166247903554\n",
      "approximation de la racine de  11 après 7 itérées : 3.3166247903554\n",
      "approximation de la racine de  11 après 8 itérées : 3.3166247903554\n",
      "approximation de la racine de  11 après 9 itérées : 3.3166247903554\n",
      "approximation de la racine de  3 après 1 itérées : 2.0\n",
      "approximation de la racine de  3 après 2 itérées : 1.75\n",
      "approximation de la racine de  3 après 3 itérées : 1.7321428571428572\n",
      "approximation de la racine de  3 après 4 itérées : 1.7320508100147274\n",
      "approximation de la racine de  3 après 5 itérées : 1.7320508075688772\n",
      "approximation de la racine de  3 après 6 itérées : 1.7320508075688772\n",
      "approximation de la racine de  3 après 7 itérées : 1.7320508075688772\n",
      "approximation de la racine de  3 après 8 itérées : 1.7320508075688772\n",
      "approximation de la racine de  3 après 9 itérées : 1.7320508075688772\n"
     ]
    }
   ],
   "source": [
    "def itere(f,x,n):\n",
    "    if(type(n)!=int or n<0):\n",
    "        raise ValueError(\"n n'est pas un entier positif !\")\n",
    "    if n==1 :\n",
    "        return f(x)\n",
    "    else :\n",
    "        return f(itere(f,x,n-1))\n",
    "    \n",
    "for a in [11,3]:\n",
    "    for n in range(1,10):\n",
    "        print(\"approximation de la racine de \",a, \"après\",n,\"itérées :\", itere(lambda x:0.5*(a/x+x),1.,n))"
   ]
  },
  {
   "cell_type": "markdown",
   "metadata": {
    "Collapsed": "false"
   },
   "source": [
    "3. Remarque que pour $a>0$, $f_a(x)=x$ si et seulement si $x = \\sqrt(a)$. Ecrire alors un fonction `itere_seuil` qui :\n",
    "    * qui prend en argument une fonction `f` (représentant une fonction mathématiques $f : x \\in \\mathbb{R} \\mapsto f(x)$, un seuil `epsilon` et un réel `x`,\n",
    "    * l'argument $x$ pourra être pris égal à 1 par défaut,\n",
    "    * qui renvoie l'itérée n-ième de $f$ en x (*ie* $f^n(x)$) où $n$ est le plus petit entier tel que $\\vert(f^{n+1}(x)-f^n(x)\\vert \\leqslant \\varepsilon$.\n",
    "    \n",
    "Tester pour la même fonction $f$ que précédement et $\\varepsilon = 1e-6$ et $a = 3$ et 11."
   ]
  },
  {
   "cell_type": "code",
   "execution_count": 38,
   "metadata": {
    "Collapsed": "false"
   },
   "outputs": [
    {
     "name": "stdout",
     "output_type": "stream",
     "text": [
      "approximation de la racine de  11  : 3.3166248052315686\n",
      "la valeur à trouver est  3.3166247903554\n",
      "approximation de la racine de  3  : 1.7320508100147274\n",
      "la valeur à trouver est  1.7320508075688772\n"
     ]
    }
   ],
   "source": [
    "def itere_seuil(f,epsilon,x=1.):\n",
    "    if(epsilon <=0):\n",
    "        raise ValueError(\"epsilon n'est pas strictement positif!\")\n",
    "    diff = max(1, 2*epsilon)\n",
    "    res = x\n",
    "    while(diff>epsilon):\n",
    "        res,x  = f(res), res\n",
    "        diff = np.abs(res-x)\n",
    "    return res\n",
    "    \n",
    "for a in [11,3]:\n",
    "    print(\"approximation de la racine de \",a,\" :\", itere_seuil(lambda x:0.5*(a/x+x),0.01))\n",
    "    print(\"la valeur à trouver est \",np.sqrt(a))"
   ]
  },
  {
   "cell_type": "markdown",
   "metadata": {
    "Collapsed": "false"
   },
   "source": [
    "4. Afin d'éviter une boucle infinie, ajouter un nombre maximum d'itération. Ce nombre pourra être de $10^6$ par défaut. La fonction devra de plus renvoyer le nombre d'itération faites.\n",
    " Tester votre condition d'arrêt pour $x \\mapsto 2 x$."
   ]
  },
  {
   "cell_type": "code",
   "execution_count": 48,
   "metadata": {
    "Collapsed": "false"
   },
   "outputs": [
    {
     "name": "stdout",
     "output_type": "stream",
     "text": [
      "approximation de la racine de  11  : 3.3166247903554 trouvée en  6 itérations.\n",
      "la valeur à trouver est  3.3166247903554\n",
      "approximation de la racine de  3  : 1.7320508075688772 trouvée en  5 itérations.\n",
      "la valeur à trouver est  1.7320508075688772\n",
      "approximation de la racine de  0.8  : 0.894427190999916 trouvée en  4 itérations.\n",
      "la valeur à trouver est  0.8944271909999159\n",
      "pour une mauvaise fonction il y a un test d'arrêt : (inf, 1025)\n"
     ]
    }
   ],
   "source": [
    "def itere_seuil(f,epsilon,x=1.,ite_max=1e4):\n",
    "    if(epsilon <=0):\n",
    "        raise ValueError(\"epsilon n'est pas strictement positif!\")\n",
    "    diff = max(1, 2*epsilon)\n",
    "    res = x\n",
    "    ite=0\n",
    "    while(diff>epsilon and ite<ite_max):\n",
    "        res,x  = f(res), res\n",
    "        diff = np.abs(res-x)\n",
    "        ite +=1\n",
    "    return res, ite\n",
    "    \n",
    "for a in [11,3,0.8]:\n",
    "    res, ite = itere_seuil(lambda x:0.5*(a/x+x),1e-6)\n",
    "    print(\"approximation de la racine de \",a,\" :\", res, 'trouvée en ',ite,\"itérations.\")\n",
    "    print(\"la valeur à trouver est \",np.sqrt(a))\n",
    "    \n",
    "print(\"pour une mauvaise fonction il y a un test d'arrêt :\", itere_seuil(lambda x:2*x,0.01))  "
   ]
  },
  {
   "cell_type": "code",
   "execution_count": null,
   "metadata": {
    "Collapsed": "false"
   },
   "outputs": [],
   "source": []
  }
 ],
 "metadata": {
  "anaconda-cloud": {},
  "kernelspec": {
   "display_name": "Python 3",
   "language": "python",
   "name": "python3"
  },
  "language_info": {
   "codemirror_mode": {
    "name": "ipython",
    "version": 3
   },
   "file_extension": ".py",
   "mimetype": "text/x-python",
   "name": "python",
   "nbconvert_exporter": "python",
   "pygments_lexer": "ipython3",
   "version": "3.7.3"
  }
 },
 "nbformat": 4,
 "nbformat_minor": 4
}
